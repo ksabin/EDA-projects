{
 "cells": [
  {
   "cell_type": "markdown",
   "id": "fe858723",
   "metadata": {},
   "source": [
    "#Project Title: Book Sales"
   ]
  },
  {
   "cell_type": "markdown",
   "id": "a7d67e04",
   "metadata": {},
   "source": [
    "Step 1: Import important libraries"
   ]
  },
  {
   "cell_type": "code",
   "execution_count": 1,
   "id": "2bd9840b",
   "metadata": {},
   "outputs": [],
   "source": [
    "import numpy as np\n",
    "import pandas as pd\n",
    "import matplotlib.pyplot as plt\n",
    "import seaborn as sns"
   ]
  },
  {
   "cell_type": "markdown",
   "id": "f0e2abff",
   "metadata": {},
   "source": [
    "Step 2: Load and Read the Dataset"
   ]
  },
  {
   "cell_type": "code",
   "execution_count": 2,
   "id": "9769092d",
   "metadata": {},
   "outputs": [],
   "source": [
    "df=pd.read_csv(r\"E:\\Programming\\Files for EDA\\Books_Data_Clean.csv\")"
   ]
  },
  {
   "cell_type": "code",
   "execution_count": 3,
   "id": "e480859e",
   "metadata": {},
   "outputs": [
    {
     "data": {
      "application/vnd.microsoft.datawrangler.viewer.v0+json": {
       "columns": [
        {
         "name": "index",
         "rawType": "int64",
         "type": "integer"
        },
        {
         "name": "index",
         "rawType": "int64",
         "type": "integer"
        },
        {
         "name": "Publishing Year",
         "rawType": "float64",
         "type": "float"
        },
        {
         "name": "Book Name",
         "rawType": "object",
         "type": "unknown"
        },
        {
         "name": "Author",
         "rawType": "object",
         "type": "string"
        },
        {
         "name": "language_code",
         "rawType": "object",
         "type": "unknown"
        },
        {
         "name": "Author_Rating",
         "rawType": "object",
         "type": "string"
        },
        {
         "name": "Book_average_rating",
         "rawType": "float64",
         "type": "float"
        },
        {
         "name": "Book_ratings_count",
         "rawType": "int64",
         "type": "integer"
        },
        {
         "name": "genre",
         "rawType": "object",
         "type": "string"
        },
        {
         "name": "gross sales",
         "rawType": "float64",
         "type": "float"
        },
        {
         "name": "publisher revenue",
         "rawType": "float64",
         "type": "float"
        },
        {
         "name": "sale price",
         "rawType": "float64",
         "type": "float"
        },
        {
         "name": "sales rank",
         "rawType": "int64",
         "type": "integer"
        },
        {
         "name": "Publisher ",
         "rawType": "object",
         "type": "string"
        },
        {
         "name": "units sold",
         "rawType": "int64",
         "type": "integer"
        }
       ],
       "ref": "d4acf12c-88f3-4408-b2f8-a4b9c9d37769",
       "rows": [
        [
         "0",
         "0",
         "1975.0",
         "Beowulf",
         "Unknown, Seamus Heaney",
         "en-US",
         "Novice",
         "3.42",
         "155903",
         "genre fiction",
         "34160.0",
         "20496.0",
         "4.88",
         "1",
         "HarperCollins Publishers",
         "7000"
        ],
        [
         "1",
         "1",
         "1987.0",
         "Batman: Year One",
         "Frank Miller, David Mazzucchelli, Richmond Lewis, Dennis O'Neil",
         "eng",
         "Intermediate",
         "4.23",
         "145267",
         "genre fiction",
         "12437.5",
         "7462.5",
         "1.99",
         "2",
         "HarperCollins Publishers",
         "6250"
        ],
        [
         "2",
         "2",
         "2015.0",
         "Go Set a Watchman",
         "Harper Lee",
         "eng",
         "Novice",
         "3.31",
         "138669",
         "genre fiction",
         "47795.0",
         "28677.0",
         "8.69",
         "3",
         "Amazon Digital Services,  Inc.",
         "5500"
        ],
        [
         "3",
         "3",
         "2008.0",
         "When You Are Engulfed in Flames",
         "David Sedaris",
         "en-US",
         "Intermediate",
         "4.04",
         "150898",
         "fiction",
         "41250.0",
         "24750.0",
         "7.5",
         "3",
         "Hachette Book Group",
         "5500"
        ],
        [
         "4",
         "4",
         "2011.0",
         "Daughter of Smoke & Bone",
         "Laini Taylor",
         "eng",
         "Intermediate",
         "4.04",
         "198283",
         "genre fiction",
         "37952.5",
         "22771.5",
         "7.99",
         "4",
         "Penguin Group (USA) LLC",
         "4750"
        ],
        [
         "5",
         "5",
         "2015.0",
         "Red Queen",
         "Victoria Aveyard",
         "eng",
         "Intermediate",
         "4.08",
         "83354",
         "genre fiction",
         "19960.0",
         "0.0",
         "4.99",
         "5",
         "Amazon Digital Services,  Inc.",
         "4000"
        ],
        [
         "6",
         "6",
         "2011.0",
         "The Power of Habit",
         "Charles Duhigg",
         "eng",
         "Intermediate",
         "4.03",
         "155977",
         "genre fiction",
         "27491.67",
         "16495.002",
         "6.99",
         "6",
         "HarperCollins Publishers",
         "3933"
        ],
        [
         "7",
         "7",
         "1994.0",
         "Midnight in the Garden of Good and Evil",
         "John Berendt",
         "eng",
         "Intermediate",
         "3.9",
         "167997",
         "nonfiction",
         "26182.0",
         "15709.2",
         "6.89",
         "8",
         "Hachette Book Group",
         "3800"
        ],
        [
         "8",
         "8",
         "2012.0",
         "Hopeless",
         "Colleen Hoover",
         "eng",
         "Intermediate",
         "4.34",
         "189938",
         "genre fiction",
         "26093.67",
         "15656.202",
         "6.99",
         "9",
         "HarperCollins Publishers",
         "3733"
        ],
        [
         "9",
         "9",
         "1905.0",
         "A Little Princess",
         "Frances Hodgson Burnett, Nancy Bond",
         "eng",
         "Intermediate",
         "4.2",
         "199872",
         "genre fiction",
         "23792.34",
         "14275.404",
         "6.49",
         "10",
         "Random House LLC",
         "3666"
        ],
        [
         "10",
         "10",
         "2004.0",
         "The Truth About Forever",
         "Sarah Dessen",
         "en-US",
         "Intermediate",
         "4.13",
         "179415",
         "genre fiction",
         "17964.0",
         "0.0",
         "4.99",
         "11",
         "Amazon Digital Services,  Inc.",
         "3600"
        ],
        [
         "11",
         "11",
         "1954.0",
         "The horse and his boy",
         "C.S. Lewis",
         "eng",
         "Intermediate",
         "3.9",
         "189671",
         "fiction",
         "21564.0",
         "12938.4",
         "5.99",
         "11",
         "Penguin Group (USA) LLC",
         "3600"
        ],
        [
         "12",
         "12",
         "2010.0",
         "Last Sacrifice ",
         "Richelle Mead",
         "eng",
         "Famous",
         "4.42",
         "206792",
         "genre fiction",
         "3431.34",
         "0.0",
         "0.99",
         "13",
         "Amazon Digital Services,  Inc.",
         "3466"
        ],
        [
         "13",
         "13",
         "1935.0",
         "Little House on the Prairie",
         "Laura Ingalls Wilder, Garth Williams",
         "eng",
         "Intermediate",
         "4.18",
         "195424",
         "genre fiction",
         "6897.34",
         "4138.404",
         "1.99",
         "13",
         "HarperCollins Publishers",
         "3466"
        ],
        [
         "14",
         "14",
         "1922.0",
         "The Velveteen Rabbit",
         "Margery Williams Bianco, William   Nicholson",
         "eng",
         "Intermediate",
         "4.29",
         "173469",
         "genre fiction",
         "21797.82",
         "13078.692",
         "6.54",
         "15",
         "Random House LLC",
         "3333"
        ],
        [
         "15",
         "15",
         "1974.0",
         "Zen and the Art of Motorcycle Maintenance",
         "Robert M. Pirsig",
         "eng",
         "Intermediate",
         "3.76",
         "139411",
         "genre fiction",
         "16297.34",
         "0.0",
         "4.99",
         "16",
         "Amazon Digital Services,  Inc.",
         "3266"
        ],
        [
         "16",
         "16",
         "1897.0",
         "The War of the Worlds",
         "H.G. Wells, Arthur C. Clarke",
         "eng",
         "Intermediate",
         "3.8",
         "159752",
         "genre fiction",
         "15968.0",
         "0.0",
         "4.99",
         "17",
         "Amazon Digital Services,  Inc.",
         "3200"
        ],
        [
         "17",
         "17",
         "2006.0",
         "Pretty Little Liars",
         "Sara Shepard",
         "en-US",
         "Intermediate",
         "3.9",
         "156328",
         "genre fiction",
         "15968.0",
         "0.0",
         "4.99",
         "17",
         "Amazon Digital Services,  Inc.",
         "3200"
        ],
        [
         "18",
         "18",
         "1948.0",
         "Corduroy",
         "Don Freeman",
         "en-US",
         "Intermediate",
         "4.28",
         "160860",
         "genre fiction",
         "6234.67",
         "3740.802",
         "1.99",
         "18",
         "Simon and Schuster Digital Sales Inc",
         "3133"
        ],
        [
         "19",
         "19",
         "2006.0",
         "The Omnivore's Dilemma",
         "Michael Pollan",
         "eng",
         "Intermediate",
         "4.17",
         "133271",
         "genre fiction",
         "3035.34",
         "0.0",
         "0.99",
         "19",
         "Amazon Digital Services,  Inc.",
         "3066"
        ],
        [
         "20",
         "20",
         "2013.0",
         "Life After Life",
         "Kate Atkinson",
         "eng",
         "Intermediate",
         "3.74",
         "138454",
         "genre fiction",
         "11702.67",
         "0.0",
         "3.99",
         "21",
         "Amazon Digital Services,  Inc.",
         "2933"
        ],
        [
         "21",
         "21",
         "2000.0",
         "The Rescue",
         "Nicholas Sparks",
         "en-US",
         "Intermediate",
         "4.1",
         "142092",
         "genre fiction",
         "8569.34",
         "0.0",
         "2.99",
         "22",
         "Amazon Digital Services,  Inc.",
         "2866"
        ],
        [
         "22",
         "22",
         "1991.0",
         "Needful Things",
         "Stephen King",
         null,
         "Intermediate",
         "3.87",
         "153821",
         "genre fiction",
         "2772.0",
         "0.0",
         "0.99",
         "23",
         "Amazon Digital Services,  Inc.",
         "2800"
        ],
        [
         "23",
         "23",
         "1993.0",
         "Voyager",
         "Diana Gabaldon",
         "eng",
         "Intermediate",
         "4.38",
         "157395",
         "genre fiction",
         "8171.67",
         "0.0",
         "2.99",
         "24",
         "Amazon Digital Services,  Inc.",
         "2733"
        ],
        [
         "24",
         "24",
         "1996.0",
         null,
         "Kenneth Branagh, William Shakespeare",
         "eng",
         "Intermediate",
         "4.12",
         "156869",
         "genre fiction",
         "2639.34",
         "1583.604",
         "0.99",
         "25",
         "Amazon Digital Services,  Inc.",
         "2666"
        ],
        [
         "25",
         "25",
         "1981.0",
         "Cujo",
         "Stephen King",
         "spa",
         "Intermediate",
         "3.65",
         "158215",
         "genre fiction",
         "7774.0",
         "0.0",
         "2.99",
         "26",
         "Amazon Digital Services,  Inc.",
         "2600"
        ],
        [
         "26",
         "26",
         "1993.0",
         "The Virgin Suicides",
         "Jeffrey Eugenides",
         "eng",
         "Intermediate",
         "3.83",
         "159249",
         "genre fiction",
         "26904.06",
         "16142.436",
         "10.91",
         "28",
         "Penguin Group (USA) LLC",
         "2466"
        ],
        [
         "27",
         "27",
         "2004.0",
         "Dead to the World",
         "Charlaine Harris",
         "eng",
         "Intermediate",
         "4.13",
         "199572",
         "genre fiction",
         "2376.0",
         "0.0",
         "0.99",
         "29",
         "Amazon Digital Services,  Inc.",
         "2400"
        ],
        [
         "28",
         "28",
         "1891.0",
         "Tess of the d'Urbervilles: A Pure Woman Faithfully Presented",
         "Thomas Hardy, Tim Dolin, Margaret R. Higonnet",
         "eng",
         "Intermediate",
         "3.77",
         "171599",
         "nonfiction",
         "9576.0",
         "5745.6",
         "3.99",
         "29",
         "Hachette Book Group",
         "2400"
        ],
        [
         "29",
         "29",
         "1856.0",
         "Madame Bovary",
         "Gustave Flaubert, Margaret Mauldon, Malcolm Bowie, Mark Overstall",
         "eng",
         "Intermediate",
         "3.64",
         "158877",
         "genre fiction",
         "9308.67",
         "0.0",
         "3.99",
         "30",
         "Amazon Digital Services,  Inc.",
         "2333"
        ],
        [
         "30",
         "30",
         "1961.0",
         "The Phantom Tollbooth",
         "Norton Juster, Jules Feiffer",
         "en-US",
         "Intermediate",
         "4.22",
         "178432",
         "genre fiction",
         "4509.34",
         "0.0",
         "1.99",
         "31",
         "Amazon Digital Services,  Inc.",
         "2266"
        ],
        [
         "31",
         "31",
         "2010.0",
         "The Way of Kings",
         "Brandon Sanderson",
         "eng",
         "Famous",
         "4.64",
         "144822",
         "genre fiction",
         "2178.0",
         "0.0",
         "0.99",
         "32",
         "Amazon Digital Services,  Inc.",
         "2200"
        ],
        [
         "32",
         "32",
         "2003.0",
         "Club Dead",
         "Charlaine Harris",
         "en-GB",
         "Intermediate",
         "4.03",
         "181323",
         "genre fiction",
         "13178.0",
         "7906.8",
         "5.99",
         "32",
         "HarperCollins Publishers",
         "2200"
        ],
        [
         "33",
         "33",
         "2006.0",
         "It's Kind of a Funny Story",
         "Ned Vizzini",
         "en-US",
         "Intermediate",
         "4.14",
         "161001",
         "nonfiction",
         "2045.34",
         "1227.204",
         "0.99",
         "34",
         "HarperCollins Publishers",
         "2066"
        ],
        [
         "34",
         "34",
         "2007.0",
         null,
         "Brandon Sanderson",
         "eng",
         "Intermediate",
         "4.35",
         "150736",
         "genre fiction",
         "17980.0",
         "10788.0",
         "8.99",
         "35",
         "Random House LLC",
         "2000"
        ],
        [
         "35",
         "35",
         "2015.0",
         "After You",
         "Jojo Moyes",
         "eng",
         "Intermediate",
         "3.7",
         "99342",
         "genre fiction",
         "1964.16",
         "0.0",
         "0.99",
         "36",
         "Amazon Digital Services,  Inc.",
         "1984"
        ],
        [
         "36",
         "36",
         "2011.0",
         "The Language of Flowers",
         "Vanessa Diffenbaugh",
         "eng",
         "Intermediate",
         "4.07",
         "140076",
         "genre fiction",
         "1964.16",
         "1178.496",
         "0.99",
         "36",
         "Amazon Digital Services,  Inc.",
         "1984"
        ],
        [
         "37",
         "37",
         "1986.0",
         "Batman: The Dark Knight Returns",
         "Frank Miller, Klaus Janson, Lynn Varley",
         "eng",
         "Intermediate",
         "4.25",
         "135979",
         "genre fiction",
         "1949.31",
         "0.0",
         "0.99",
         "37",
         "Amazon Digital Services,  Inc.",
         "1969"
        ],
        [
         "38",
         "38",
         "2005.0",
         "The Angel Experiment",
         "James Patterson",
         "eng",
         "Intermediate",
         "4.08",
         "172302",
         "genre fiction",
         "1949.31",
         "0.0",
         "0.99",
         "37",
         "Amazon Digital Services,  Inc.",
         "1969"
        ],
        [
         "39",
         "39",
         "1995.0",
         "High Fidelity",
         "Nick Hornby",
         "eng",
         "Intermediate",
         "3.94",
         "134849",
         "genre fiction",
         "20309.55",
         "12185.73",
         "10.65",
         "41",
         "Random House LLC",
         "1907"
        ],
        [
         "40",
         "40",
         "2003.0",
         "The Guardian",
         "Nicholas Sparks",
         "en-US",
         "Intermediate",
         "4.14",
         "136427",
         "genre fiction",
         "1873.08",
         "0.0",
         "0.99",
         "42",
         "Amazon Digital Services,  Inc.",
         "1892"
        ],
        [
         "41",
         "41",
         "2003.0",
         "Oryx and Crake",
         "Margaret Atwood",
         "eng",
         "Intermediate",
         "4.0",
         "151500",
         "genre fiction",
         "7485.24",
         "0.0",
         "3.99",
         "43",
         "Amazon Digital Services,  Inc.",
         "1876"
        ],
        [
         "42",
         "42",
         "1998.0",
         "Men Are from Mars, Women Are from Venus Book of Days: 365 Inspirations to Enrich Your Relationships",
         "John Gray",
         "en-US",
         "Intermediate",
         "3.52",
         "113915",
         "genre fiction",
         "3703.39",
         "2222.034",
         "1.99",
         "44",
         "Amazon Digital Services,  Inc.",
         "1861"
        ],
        [
         "43",
         "43",
         "2000.0",
         "Kitchen Confidential: Adventures in the Culinary Underbelly",
         "Anthony Bourdain",
         "eng",
         "Intermediate",
         "4.0",
         "134177",
         "genre fiction",
         "11057.54",
         "6634.524",
         "5.99",
         "45",
         "HarperCollins Publishers",
         "1846"
        ],
        [
         "44",
         "44",
         "1999.0",
         "Timeline",
         "Michael Crichton",
         "en-US",
         "Intermediate",
         "3.83",
         "148563",
         "genre fiction",
         "12791.7",
         "7675.02",
         "6.99",
         "46",
         "Amazon Digital Services,  Inc.",
         "1830"
        ],
        [
         "45",
         "45",
         "1759.0",
         "Candide",
         "Voltaire",
         "eng",
         "Intermediate",
         "3.76",
         "151471",
         "genre fiction",
         "8982.0",
         "0.0",
         "4.99",
         "48",
         "Amazon Digital Services,  Inc.",
         "1800"
        ],
        [
         "46",
         "46",
         "1975.0",
         "Tuck Everlasting",
         "Natalie Babbitt",
         "eng",
         "Intermediate",
         "3.85",
         "174280",
         "nonfiction",
         "3582.0",
         "2149.2",
         "1.99",
         "48",
         "Amazon Digital Services,  Inc.",
         "1800"
        ],
        [
         "47",
         "47",
         "1983.0",
         "Christine",
         "Stephen King, Marie Milpois",
         "fre",
         "Intermediate",
         "3.72",
         "151160",
         "nonfiction",
         "1766.16",
         "1059.696",
         "0.99",
         "49",
         "Amazon Digital Services,  Inc.",
         "1784"
        ],
        [
         "48",
         "48",
         "1960.0",
         "Are You My Mother?",
         "P.D. Eastman",
         "eng",
         "Intermediate",
         "4.16",
         "174204",
         "genre fiction",
         "10596.31",
         "6357.786",
         "5.99",
         "50",
         "Penguin Group (USA) LLC",
         "1769"
        ],
        [
         "49",
         "49",
         "1950.0",
         "The Story of Art",
         "E.H. Gombrich",
         "en-US",
         "Intermediate",
         "3.83",
         "164708",
         "genre fiction",
         "15058.27",
         "9034.962",
         "8.59",
         "51",
         "Hachette Book Group",
         "1753"
        ]
       ],
       "shape": {
        "columns": 15,
        "rows": 1070
       }
      },
      "text/html": [
       "<div>\n",
       "<style scoped>\n",
       "    .dataframe tbody tr th:only-of-type {\n",
       "        vertical-align: middle;\n",
       "    }\n",
       "\n",
       "    .dataframe tbody tr th {\n",
       "        vertical-align: top;\n",
       "    }\n",
       "\n",
       "    .dataframe thead th {\n",
       "        text-align: right;\n",
       "    }\n",
       "</style>\n",
       "<table border=\"1\" class=\"dataframe\">\n",
       "  <thead>\n",
       "    <tr style=\"text-align: right;\">\n",
       "      <th></th>\n",
       "      <th>index</th>\n",
       "      <th>Publishing Year</th>\n",
       "      <th>Book Name</th>\n",
       "      <th>Author</th>\n",
       "      <th>language_code</th>\n",
       "      <th>Author_Rating</th>\n",
       "      <th>Book_average_rating</th>\n",
       "      <th>Book_ratings_count</th>\n",
       "      <th>genre</th>\n",
       "      <th>gross sales</th>\n",
       "      <th>publisher revenue</th>\n",
       "      <th>sale price</th>\n",
       "      <th>sales rank</th>\n",
       "      <th>Publisher</th>\n",
       "      <th>units sold</th>\n",
       "    </tr>\n",
       "  </thead>\n",
       "  <tbody>\n",
       "    <tr>\n",
       "      <th>0</th>\n",
       "      <td>0</td>\n",
       "      <td>1975.0</td>\n",
       "      <td>Beowulf</td>\n",
       "      <td>Unknown, Seamus Heaney</td>\n",
       "      <td>en-US</td>\n",
       "      <td>Novice</td>\n",
       "      <td>3.42</td>\n",
       "      <td>155903</td>\n",
       "      <td>genre fiction</td>\n",
       "      <td>34160.00</td>\n",
       "      <td>20496.000</td>\n",
       "      <td>4.88</td>\n",
       "      <td>1</td>\n",
       "      <td>HarperCollins Publishers</td>\n",
       "      <td>7000</td>\n",
       "    </tr>\n",
       "    <tr>\n",
       "      <th>1</th>\n",
       "      <td>1</td>\n",
       "      <td>1987.0</td>\n",
       "      <td>Batman: Year One</td>\n",
       "      <td>Frank Miller, David Mazzucchelli, Richmond Lew...</td>\n",
       "      <td>eng</td>\n",
       "      <td>Intermediate</td>\n",
       "      <td>4.23</td>\n",
       "      <td>145267</td>\n",
       "      <td>genre fiction</td>\n",
       "      <td>12437.50</td>\n",
       "      <td>7462.500</td>\n",
       "      <td>1.99</td>\n",
       "      <td>2</td>\n",
       "      <td>HarperCollins Publishers</td>\n",
       "      <td>6250</td>\n",
       "    </tr>\n",
       "    <tr>\n",
       "      <th>2</th>\n",
       "      <td>2</td>\n",
       "      <td>2015.0</td>\n",
       "      <td>Go Set a Watchman</td>\n",
       "      <td>Harper Lee</td>\n",
       "      <td>eng</td>\n",
       "      <td>Novice</td>\n",
       "      <td>3.31</td>\n",
       "      <td>138669</td>\n",
       "      <td>genre fiction</td>\n",
       "      <td>47795.00</td>\n",
       "      <td>28677.000</td>\n",
       "      <td>8.69</td>\n",
       "      <td>3</td>\n",
       "      <td>Amazon Digital Services,  Inc.</td>\n",
       "      <td>5500</td>\n",
       "    </tr>\n",
       "    <tr>\n",
       "      <th>3</th>\n",
       "      <td>3</td>\n",
       "      <td>2008.0</td>\n",
       "      <td>When You Are Engulfed in Flames</td>\n",
       "      <td>David Sedaris</td>\n",
       "      <td>en-US</td>\n",
       "      <td>Intermediate</td>\n",
       "      <td>4.04</td>\n",
       "      <td>150898</td>\n",
       "      <td>fiction</td>\n",
       "      <td>41250.00</td>\n",
       "      <td>24750.000</td>\n",
       "      <td>7.50</td>\n",
       "      <td>3</td>\n",
       "      <td>Hachette Book Group</td>\n",
       "      <td>5500</td>\n",
       "    </tr>\n",
       "    <tr>\n",
       "      <th>4</th>\n",
       "      <td>4</td>\n",
       "      <td>2011.0</td>\n",
       "      <td>Daughter of Smoke &amp; Bone</td>\n",
       "      <td>Laini Taylor</td>\n",
       "      <td>eng</td>\n",
       "      <td>Intermediate</td>\n",
       "      <td>4.04</td>\n",
       "      <td>198283</td>\n",
       "      <td>genre fiction</td>\n",
       "      <td>37952.50</td>\n",
       "      <td>22771.500</td>\n",
       "      <td>7.99</td>\n",
       "      <td>4</td>\n",
       "      <td>Penguin Group (USA) LLC</td>\n",
       "      <td>4750</td>\n",
       "    </tr>\n",
       "    <tr>\n",
       "      <th>...</th>\n",
       "      <td>...</td>\n",
       "      <td>...</td>\n",
       "      <td>...</td>\n",
       "      <td>...</td>\n",
       "      <td>...</td>\n",
       "      <td>...</td>\n",
       "      <td>...</td>\n",
       "      <td>...</td>\n",
       "      <td>...</td>\n",
       "      <td>...</td>\n",
       "      <td>...</td>\n",
       "      <td>...</td>\n",
       "      <td>...</td>\n",
       "      <td>...</td>\n",
       "      <td>...</td>\n",
       "    </tr>\n",
       "    <tr>\n",
       "      <th>1065</th>\n",
       "      <td>1065</td>\n",
       "      <td>2014.0</td>\n",
       "      <td>Gray Mountain</td>\n",
       "      <td>John Grisham</td>\n",
       "      <td>eng</td>\n",
       "      <td>Intermediate</td>\n",
       "      <td>3.52</td>\n",
       "      <td>37379</td>\n",
       "      <td>nonfiction</td>\n",
       "      <td>104.94</td>\n",
       "      <td>62.964</td>\n",
       "      <td>0.99</td>\n",
       "      <td>1268</td>\n",
       "      <td>Amazon Digital Services,  Inc.</td>\n",
       "      <td>106</td>\n",
       "    </tr>\n",
       "    <tr>\n",
       "      <th>1066</th>\n",
       "      <td>1066</td>\n",
       "      <td>1989.0</td>\n",
       "      <td>The Power of One</td>\n",
       "      <td>Bryce Courtenay</td>\n",
       "      <td>eng</td>\n",
       "      <td>Excellent</td>\n",
       "      <td>4.34</td>\n",
       "      <td>57312</td>\n",
       "      <td>genre fiction</td>\n",
       "      <td>846.94</td>\n",
       "      <td>508.164</td>\n",
       "      <td>7.99</td>\n",
       "      <td>1270</td>\n",
       "      <td>Random House LLC</td>\n",
       "      <td>106</td>\n",
       "    </tr>\n",
       "    <tr>\n",
       "      <th>1067</th>\n",
       "      <td>1067</td>\n",
       "      <td>1930.0</td>\n",
       "      <td>The Maltese Falcon</td>\n",
       "      <td>Dashiell Hammett</td>\n",
       "      <td>eng</td>\n",
       "      <td>Intermediate</td>\n",
       "      <td>3.92</td>\n",
       "      <td>58742</td>\n",
       "      <td>genre fiction</td>\n",
       "      <td>846.94</td>\n",
       "      <td>508.164</td>\n",
       "      <td>7.99</td>\n",
       "      <td>1271</td>\n",
       "      <td>Hachette Book Group</td>\n",
       "      <td>106</td>\n",
       "    </tr>\n",
       "    <tr>\n",
       "      <th>1068</th>\n",
       "      <td>1068</td>\n",
       "      <td>2011.0</td>\n",
       "      <td>Night Road</td>\n",
       "      <td>Kristin Hannah</td>\n",
       "      <td>en-US</td>\n",
       "      <td>Excellent</td>\n",
       "      <td>4.17</td>\n",
       "      <td>58028</td>\n",
       "      <td>genre fiction</td>\n",
       "      <td>104.94</td>\n",
       "      <td>62.964</td>\n",
       "      <td>0.99</td>\n",
       "      <td>1272</td>\n",
       "      <td>Amazon Digital Services,  Inc.</td>\n",
       "      <td>106</td>\n",
       "    </tr>\n",
       "    <tr>\n",
       "      <th>1069</th>\n",
       "      <td>1069</td>\n",
       "      <td>1999.0</td>\n",
       "      <td>Tripwire</td>\n",
       "      <td>Lee Child</td>\n",
       "      <td>eng</td>\n",
       "      <td>Excellent</td>\n",
       "      <td>4.07</td>\n",
       "      <td>55251</td>\n",
       "      <td>genre fiction</td>\n",
       "      <td>316.94</td>\n",
       "      <td>0.000</td>\n",
       "      <td>2.99</td>\n",
       "      <td>1273</td>\n",
       "      <td>Amazon Digital Services,  Inc.</td>\n",
       "      <td>106</td>\n",
       "    </tr>\n",
       "  </tbody>\n",
       "</table>\n",
       "<p>1070 rows × 15 columns</p>\n",
       "</div>"
      ],
      "text/plain": [
       "      index  Publishing Year                        Book Name  \\\n",
       "0         0           1975.0                          Beowulf   \n",
       "1         1           1987.0                 Batman: Year One   \n",
       "2         2           2015.0                Go Set a Watchman   \n",
       "3         3           2008.0  When You Are Engulfed in Flames   \n",
       "4         4           2011.0         Daughter of Smoke & Bone   \n",
       "...     ...              ...                              ...   \n",
       "1065   1065           2014.0                    Gray Mountain   \n",
       "1066   1066           1989.0                 The Power of One   \n",
       "1067   1067           1930.0               The Maltese Falcon   \n",
       "1068   1068           2011.0                       Night Road   \n",
       "1069   1069           1999.0                         Tripwire   \n",
       "\n",
       "                                                 Author language_code  \\\n",
       "0                                Unknown, Seamus Heaney         en-US   \n",
       "1     Frank Miller, David Mazzucchelli, Richmond Lew...           eng   \n",
       "2                                            Harper Lee           eng   \n",
       "3                                         David Sedaris         en-US   \n",
       "4                                          Laini Taylor           eng   \n",
       "...                                                 ...           ...   \n",
       "1065                                       John Grisham           eng   \n",
       "1066                                    Bryce Courtenay           eng   \n",
       "1067                                   Dashiell Hammett           eng   \n",
       "1068                                     Kristin Hannah         en-US   \n",
       "1069                                          Lee Child           eng   \n",
       "\n",
       "     Author_Rating  Book_average_rating  Book_ratings_count          genre  \\\n",
       "0           Novice                 3.42              155903  genre fiction   \n",
       "1     Intermediate                 4.23              145267  genre fiction   \n",
       "2           Novice                 3.31              138669  genre fiction   \n",
       "3     Intermediate                 4.04              150898        fiction   \n",
       "4     Intermediate                 4.04              198283  genre fiction   \n",
       "...            ...                  ...                 ...            ...   \n",
       "1065  Intermediate                 3.52               37379     nonfiction   \n",
       "1066     Excellent                 4.34               57312  genre fiction   \n",
       "1067  Intermediate                 3.92               58742  genre fiction   \n",
       "1068     Excellent                 4.17               58028  genre fiction   \n",
       "1069     Excellent                 4.07               55251  genre fiction   \n",
       "\n",
       "      gross sales  publisher revenue  sale price  sales rank  \\\n",
       "0        34160.00          20496.000        4.88           1   \n",
       "1        12437.50           7462.500        1.99           2   \n",
       "2        47795.00          28677.000        8.69           3   \n",
       "3        41250.00          24750.000        7.50           3   \n",
       "4        37952.50          22771.500        7.99           4   \n",
       "...           ...                ...         ...         ...   \n",
       "1065       104.94             62.964        0.99        1268   \n",
       "1066       846.94            508.164        7.99        1270   \n",
       "1067       846.94            508.164        7.99        1271   \n",
       "1068       104.94             62.964        0.99        1272   \n",
       "1069       316.94              0.000        2.99        1273   \n",
       "\n",
       "                          Publisher   units sold  \n",
       "0           HarperCollins Publishers        7000  \n",
       "1           HarperCollins Publishers        6250  \n",
       "2     Amazon Digital Services,  Inc.        5500  \n",
       "3                Hachette Book Group        5500  \n",
       "4            Penguin Group (USA) LLC        4750  \n",
       "...                              ...         ...  \n",
       "1065  Amazon Digital Services,  Inc.         106  \n",
       "1066                Random House LLC         106  \n",
       "1067             Hachette Book Group         106  \n",
       "1068  Amazon Digital Services,  Inc.         106  \n",
       "1069  Amazon Digital Services,  Inc.         106  \n",
       "\n",
       "[1070 rows x 15 columns]"
      ]
     },
     "execution_count": 3,
     "metadata": {},
     "output_type": "execute_result"
    }
   ],
   "source": [
    "df"
   ]
  },
  {
   "cell_type": "markdown",
   "id": "b5b61be6",
   "metadata": {},
   "source": [
    "Step 3: Data inspection and Exploration"
   ]
  },
  {
   "cell_type": "code",
   "execution_count": 4,
   "id": "1e6574e3",
   "metadata": {},
   "outputs": [
    {
     "data": {
      "text/plain": [
       "(1070, 15)"
      ]
     },
     "execution_count": 4,
     "metadata": {},
     "output_type": "execute_result"
    }
   ],
   "source": [
    "df.shape"
   ]
  },
  {
   "cell_type": "code",
   "execution_count": 5,
   "id": "cc4a3c30",
   "metadata": {},
   "outputs": [
    {
     "data": {
      "application/vnd.microsoft.datawrangler.viewer.v0+json": {
       "columns": [
        {
         "name": "index",
         "rawType": "int64",
         "type": "integer"
        },
        {
         "name": "index",
         "rawType": "int64",
         "type": "integer"
        },
        {
         "name": "Publishing Year",
         "rawType": "float64",
         "type": "float"
        },
        {
         "name": "Book Name",
         "rawType": "object",
         "type": "string"
        },
        {
         "name": "Author",
         "rawType": "object",
         "type": "string"
        },
        {
         "name": "language_code",
         "rawType": "object",
         "type": "string"
        },
        {
         "name": "Author_Rating",
         "rawType": "object",
         "type": "string"
        },
        {
         "name": "Book_average_rating",
         "rawType": "float64",
         "type": "float"
        },
        {
         "name": "Book_ratings_count",
         "rawType": "int64",
         "type": "integer"
        },
        {
         "name": "genre",
         "rawType": "object",
         "type": "string"
        },
        {
         "name": "gross sales",
         "rawType": "float64",
         "type": "float"
        },
        {
         "name": "publisher revenue",
         "rawType": "float64",
         "type": "float"
        },
        {
         "name": "sale price",
         "rawType": "float64",
         "type": "float"
        },
        {
         "name": "sales rank",
         "rawType": "int64",
         "type": "integer"
        },
        {
         "name": "Publisher ",
         "rawType": "object",
         "type": "string"
        },
        {
         "name": "units sold",
         "rawType": "int64",
         "type": "integer"
        }
       ],
       "ref": "cdb87c78-4147-4b63-a264-d7ddebbf7f88",
       "rows": [
        [
         "0",
         "0",
         "1975.0",
         "Beowulf",
         "Unknown, Seamus Heaney",
         "en-US",
         "Novice",
         "3.42",
         "155903",
         "genre fiction",
         "34160.0",
         "20496.0",
         "4.88",
         "1",
         "HarperCollins Publishers",
         "7000"
        ],
        [
         "1",
         "1",
         "1987.0",
         "Batman: Year One",
         "Frank Miller, David Mazzucchelli, Richmond Lewis, Dennis O'Neil",
         "eng",
         "Intermediate",
         "4.23",
         "145267",
         "genre fiction",
         "12437.5",
         "7462.5",
         "1.99",
         "2",
         "HarperCollins Publishers",
         "6250"
        ],
        [
         "2",
         "2",
         "2015.0",
         "Go Set a Watchman",
         "Harper Lee",
         "eng",
         "Novice",
         "3.31",
         "138669",
         "genre fiction",
         "47795.0",
         "28677.0",
         "8.69",
         "3",
         "Amazon Digital Services,  Inc.",
         "5500"
        ],
        [
         "3",
         "3",
         "2008.0",
         "When You Are Engulfed in Flames",
         "David Sedaris",
         "en-US",
         "Intermediate",
         "4.04",
         "150898",
         "fiction",
         "41250.0",
         "24750.0",
         "7.5",
         "3",
         "Hachette Book Group",
         "5500"
        ],
        [
         "4",
         "4",
         "2011.0",
         "Daughter of Smoke & Bone",
         "Laini Taylor",
         "eng",
         "Intermediate",
         "4.04",
         "198283",
         "genre fiction",
         "37952.5",
         "22771.5",
         "7.99",
         "4",
         "Penguin Group (USA) LLC",
         "4750"
        ]
       ],
       "shape": {
        "columns": 15,
        "rows": 5
       }
      },
      "text/html": [
       "<div>\n",
       "<style scoped>\n",
       "    .dataframe tbody tr th:only-of-type {\n",
       "        vertical-align: middle;\n",
       "    }\n",
       "\n",
       "    .dataframe tbody tr th {\n",
       "        vertical-align: top;\n",
       "    }\n",
       "\n",
       "    .dataframe thead th {\n",
       "        text-align: right;\n",
       "    }\n",
       "</style>\n",
       "<table border=\"1\" class=\"dataframe\">\n",
       "  <thead>\n",
       "    <tr style=\"text-align: right;\">\n",
       "      <th></th>\n",
       "      <th>index</th>\n",
       "      <th>Publishing Year</th>\n",
       "      <th>Book Name</th>\n",
       "      <th>Author</th>\n",
       "      <th>language_code</th>\n",
       "      <th>Author_Rating</th>\n",
       "      <th>Book_average_rating</th>\n",
       "      <th>Book_ratings_count</th>\n",
       "      <th>genre</th>\n",
       "      <th>gross sales</th>\n",
       "      <th>publisher revenue</th>\n",
       "      <th>sale price</th>\n",
       "      <th>sales rank</th>\n",
       "      <th>Publisher</th>\n",
       "      <th>units sold</th>\n",
       "    </tr>\n",
       "  </thead>\n",
       "  <tbody>\n",
       "    <tr>\n",
       "      <th>0</th>\n",
       "      <td>0</td>\n",
       "      <td>1975.0</td>\n",
       "      <td>Beowulf</td>\n",
       "      <td>Unknown, Seamus Heaney</td>\n",
       "      <td>en-US</td>\n",
       "      <td>Novice</td>\n",
       "      <td>3.42</td>\n",
       "      <td>155903</td>\n",
       "      <td>genre fiction</td>\n",
       "      <td>34160.0</td>\n",
       "      <td>20496.0</td>\n",
       "      <td>4.88</td>\n",
       "      <td>1</td>\n",
       "      <td>HarperCollins Publishers</td>\n",
       "      <td>7000</td>\n",
       "    </tr>\n",
       "    <tr>\n",
       "      <th>1</th>\n",
       "      <td>1</td>\n",
       "      <td>1987.0</td>\n",
       "      <td>Batman: Year One</td>\n",
       "      <td>Frank Miller, David Mazzucchelli, Richmond Lew...</td>\n",
       "      <td>eng</td>\n",
       "      <td>Intermediate</td>\n",
       "      <td>4.23</td>\n",
       "      <td>145267</td>\n",
       "      <td>genre fiction</td>\n",
       "      <td>12437.5</td>\n",
       "      <td>7462.5</td>\n",
       "      <td>1.99</td>\n",
       "      <td>2</td>\n",
       "      <td>HarperCollins Publishers</td>\n",
       "      <td>6250</td>\n",
       "    </tr>\n",
       "    <tr>\n",
       "      <th>2</th>\n",
       "      <td>2</td>\n",
       "      <td>2015.0</td>\n",
       "      <td>Go Set a Watchman</td>\n",
       "      <td>Harper Lee</td>\n",
       "      <td>eng</td>\n",
       "      <td>Novice</td>\n",
       "      <td>3.31</td>\n",
       "      <td>138669</td>\n",
       "      <td>genre fiction</td>\n",
       "      <td>47795.0</td>\n",
       "      <td>28677.0</td>\n",
       "      <td>8.69</td>\n",
       "      <td>3</td>\n",
       "      <td>Amazon Digital Services,  Inc.</td>\n",
       "      <td>5500</td>\n",
       "    </tr>\n",
       "    <tr>\n",
       "      <th>3</th>\n",
       "      <td>3</td>\n",
       "      <td>2008.0</td>\n",
       "      <td>When You Are Engulfed in Flames</td>\n",
       "      <td>David Sedaris</td>\n",
       "      <td>en-US</td>\n",
       "      <td>Intermediate</td>\n",
       "      <td>4.04</td>\n",
       "      <td>150898</td>\n",
       "      <td>fiction</td>\n",
       "      <td>41250.0</td>\n",
       "      <td>24750.0</td>\n",
       "      <td>7.50</td>\n",
       "      <td>3</td>\n",
       "      <td>Hachette Book Group</td>\n",
       "      <td>5500</td>\n",
       "    </tr>\n",
       "    <tr>\n",
       "      <th>4</th>\n",
       "      <td>4</td>\n",
       "      <td>2011.0</td>\n",
       "      <td>Daughter of Smoke &amp; Bone</td>\n",
       "      <td>Laini Taylor</td>\n",
       "      <td>eng</td>\n",
       "      <td>Intermediate</td>\n",
       "      <td>4.04</td>\n",
       "      <td>198283</td>\n",
       "      <td>genre fiction</td>\n",
       "      <td>37952.5</td>\n",
       "      <td>22771.5</td>\n",
       "      <td>7.99</td>\n",
       "      <td>4</td>\n",
       "      <td>Penguin Group (USA) LLC</td>\n",
       "      <td>4750</td>\n",
       "    </tr>\n",
       "  </tbody>\n",
       "</table>\n",
       "</div>"
      ],
      "text/plain": [
       "   index  Publishing Year                        Book Name  \\\n",
       "0      0           1975.0                          Beowulf   \n",
       "1      1           1987.0                 Batman: Year One   \n",
       "2      2           2015.0                Go Set a Watchman   \n",
       "3      3           2008.0  When You Are Engulfed in Flames   \n",
       "4      4           2011.0         Daughter of Smoke & Bone   \n",
       "\n",
       "                                              Author language_code  \\\n",
       "0                             Unknown, Seamus Heaney         en-US   \n",
       "1  Frank Miller, David Mazzucchelli, Richmond Lew...           eng   \n",
       "2                                         Harper Lee           eng   \n",
       "3                                      David Sedaris         en-US   \n",
       "4                                       Laini Taylor           eng   \n",
       "\n",
       "  Author_Rating  Book_average_rating  Book_ratings_count          genre  \\\n",
       "0        Novice                 3.42              155903  genre fiction   \n",
       "1  Intermediate                 4.23              145267  genre fiction   \n",
       "2        Novice                 3.31              138669  genre fiction   \n",
       "3  Intermediate                 4.04              150898        fiction   \n",
       "4  Intermediate                 4.04              198283  genre fiction   \n",
       "\n",
       "   gross sales  publisher revenue  sale price  sales rank  \\\n",
       "0      34160.0            20496.0        4.88           1   \n",
       "1      12437.5             7462.5        1.99           2   \n",
       "2      47795.0            28677.0        8.69           3   \n",
       "3      41250.0            24750.0        7.50           3   \n",
       "4      37952.5            22771.5        7.99           4   \n",
       "\n",
       "                       Publisher   units sold  \n",
       "0        HarperCollins Publishers        7000  \n",
       "1        HarperCollins Publishers        6250  \n",
       "2  Amazon Digital Services,  Inc.        5500  \n",
       "3             Hachette Book Group        5500  \n",
       "4         Penguin Group (USA) LLC        4750  "
      ]
     },
     "execution_count": 5,
     "metadata": {},
     "output_type": "execute_result"
    }
   ],
   "source": [
    "df.head()"
   ]
  },
  {
   "cell_type": "code",
   "execution_count": 6,
   "id": "ce6845eb",
   "metadata": {},
   "outputs": [
    {
     "data": {
      "application/vnd.microsoft.datawrangler.viewer.v0+json": {
       "columns": [
        {
         "name": "index",
         "rawType": "int64",
         "type": "integer"
        },
        {
         "name": "index",
         "rawType": "int64",
         "type": "integer"
        },
        {
         "name": "Publishing Year",
         "rawType": "float64",
         "type": "float"
        },
        {
         "name": "Book Name",
         "rawType": "object",
         "type": "string"
        },
        {
         "name": "Author",
         "rawType": "object",
         "type": "string"
        },
        {
         "name": "language_code",
         "rawType": "object",
         "type": "string"
        },
        {
         "name": "Author_Rating",
         "rawType": "object",
         "type": "string"
        },
        {
         "name": "Book_average_rating",
         "rawType": "float64",
         "type": "float"
        },
        {
         "name": "Book_ratings_count",
         "rawType": "int64",
         "type": "integer"
        },
        {
         "name": "genre",
         "rawType": "object",
         "type": "string"
        },
        {
         "name": "gross sales",
         "rawType": "float64",
         "type": "float"
        },
        {
         "name": "publisher revenue",
         "rawType": "float64",
         "type": "float"
        },
        {
         "name": "sale price",
         "rawType": "float64",
         "type": "float"
        },
        {
         "name": "sales rank",
         "rawType": "int64",
         "type": "integer"
        },
        {
         "name": "Publisher ",
         "rawType": "object",
         "type": "string"
        },
        {
         "name": "units sold",
         "rawType": "int64",
         "type": "integer"
        }
       ],
       "ref": "24cd90a4-6599-448f-9634-508758c5a32a",
       "rows": [
        [
         "1065",
         "1065",
         "2014.0",
         "Gray Mountain",
         "John Grisham",
         "eng",
         "Intermediate",
         "3.52",
         "37379",
         "nonfiction",
         "104.94",
         "62.964",
         "0.99",
         "1268",
         "Amazon Digital Services,  Inc.",
         "106"
        ],
        [
         "1066",
         "1066",
         "1989.0",
         "The Power of One",
         "Bryce Courtenay",
         "eng",
         "Excellent",
         "4.34",
         "57312",
         "genre fiction",
         "846.94",
         "508.164",
         "7.99",
         "1270",
         "Random House LLC",
         "106"
        ],
        [
         "1067",
         "1067",
         "1930.0",
         "The Maltese Falcon",
         "Dashiell Hammett",
         "eng",
         "Intermediate",
         "3.92",
         "58742",
         "genre fiction",
         "846.94",
         "508.164",
         "7.99",
         "1271",
         "Hachette Book Group",
         "106"
        ],
        [
         "1068",
         "1068",
         "2011.0",
         "Night Road",
         "Kristin Hannah",
         "en-US",
         "Excellent",
         "4.17",
         "58028",
         "genre fiction",
         "104.94",
         "62.964",
         "0.99",
         "1272",
         "Amazon Digital Services,  Inc.",
         "106"
        ],
        [
         "1069",
         "1069",
         "1999.0",
         "Tripwire",
         "Lee Child",
         "eng",
         "Excellent",
         "4.07",
         "55251",
         "genre fiction",
         "316.94",
         "0.0",
         "2.99",
         "1273",
         "Amazon Digital Services,  Inc.",
         "106"
        ]
       ],
       "shape": {
        "columns": 15,
        "rows": 5
       }
      },
      "text/html": [
       "<div>\n",
       "<style scoped>\n",
       "    .dataframe tbody tr th:only-of-type {\n",
       "        vertical-align: middle;\n",
       "    }\n",
       "\n",
       "    .dataframe tbody tr th {\n",
       "        vertical-align: top;\n",
       "    }\n",
       "\n",
       "    .dataframe thead th {\n",
       "        text-align: right;\n",
       "    }\n",
       "</style>\n",
       "<table border=\"1\" class=\"dataframe\">\n",
       "  <thead>\n",
       "    <tr style=\"text-align: right;\">\n",
       "      <th></th>\n",
       "      <th>index</th>\n",
       "      <th>Publishing Year</th>\n",
       "      <th>Book Name</th>\n",
       "      <th>Author</th>\n",
       "      <th>language_code</th>\n",
       "      <th>Author_Rating</th>\n",
       "      <th>Book_average_rating</th>\n",
       "      <th>Book_ratings_count</th>\n",
       "      <th>genre</th>\n",
       "      <th>gross sales</th>\n",
       "      <th>publisher revenue</th>\n",
       "      <th>sale price</th>\n",
       "      <th>sales rank</th>\n",
       "      <th>Publisher</th>\n",
       "      <th>units sold</th>\n",
       "    </tr>\n",
       "  </thead>\n",
       "  <tbody>\n",
       "    <tr>\n",
       "      <th>1065</th>\n",
       "      <td>1065</td>\n",
       "      <td>2014.0</td>\n",
       "      <td>Gray Mountain</td>\n",
       "      <td>John Grisham</td>\n",
       "      <td>eng</td>\n",
       "      <td>Intermediate</td>\n",
       "      <td>3.52</td>\n",
       "      <td>37379</td>\n",
       "      <td>nonfiction</td>\n",
       "      <td>104.94</td>\n",
       "      <td>62.964</td>\n",
       "      <td>0.99</td>\n",
       "      <td>1268</td>\n",
       "      <td>Amazon Digital Services,  Inc.</td>\n",
       "      <td>106</td>\n",
       "    </tr>\n",
       "    <tr>\n",
       "      <th>1066</th>\n",
       "      <td>1066</td>\n",
       "      <td>1989.0</td>\n",
       "      <td>The Power of One</td>\n",
       "      <td>Bryce Courtenay</td>\n",
       "      <td>eng</td>\n",
       "      <td>Excellent</td>\n",
       "      <td>4.34</td>\n",
       "      <td>57312</td>\n",
       "      <td>genre fiction</td>\n",
       "      <td>846.94</td>\n",
       "      <td>508.164</td>\n",
       "      <td>7.99</td>\n",
       "      <td>1270</td>\n",
       "      <td>Random House LLC</td>\n",
       "      <td>106</td>\n",
       "    </tr>\n",
       "    <tr>\n",
       "      <th>1067</th>\n",
       "      <td>1067</td>\n",
       "      <td>1930.0</td>\n",
       "      <td>The Maltese Falcon</td>\n",
       "      <td>Dashiell Hammett</td>\n",
       "      <td>eng</td>\n",
       "      <td>Intermediate</td>\n",
       "      <td>3.92</td>\n",
       "      <td>58742</td>\n",
       "      <td>genre fiction</td>\n",
       "      <td>846.94</td>\n",
       "      <td>508.164</td>\n",
       "      <td>7.99</td>\n",
       "      <td>1271</td>\n",
       "      <td>Hachette Book Group</td>\n",
       "      <td>106</td>\n",
       "    </tr>\n",
       "    <tr>\n",
       "      <th>1068</th>\n",
       "      <td>1068</td>\n",
       "      <td>2011.0</td>\n",
       "      <td>Night Road</td>\n",
       "      <td>Kristin Hannah</td>\n",
       "      <td>en-US</td>\n",
       "      <td>Excellent</td>\n",
       "      <td>4.17</td>\n",
       "      <td>58028</td>\n",
       "      <td>genre fiction</td>\n",
       "      <td>104.94</td>\n",
       "      <td>62.964</td>\n",
       "      <td>0.99</td>\n",
       "      <td>1272</td>\n",
       "      <td>Amazon Digital Services,  Inc.</td>\n",
       "      <td>106</td>\n",
       "    </tr>\n",
       "    <tr>\n",
       "      <th>1069</th>\n",
       "      <td>1069</td>\n",
       "      <td>1999.0</td>\n",
       "      <td>Tripwire</td>\n",
       "      <td>Lee Child</td>\n",
       "      <td>eng</td>\n",
       "      <td>Excellent</td>\n",
       "      <td>4.07</td>\n",
       "      <td>55251</td>\n",
       "      <td>genre fiction</td>\n",
       "      <td>316.94</td>\n",
       "      <td>0.000</td>\n",
       "      <td>2.99</td>\n",
       "      <td>1273</td>\n",
       "      <td>Amazon Digital Services,  Inc.</td>\n",
       "      <td>106</td>\n",
       "    </tr>\n",
       "  </tbody>\n",
       "</table>\n",
       "</div>"
      ],
      "text/plain": [
       "      index  Publishing Year           Book Name            Author  \\\n",
       "1065   1065           2014.0       Gray Mountain      John Grisham   \n",
       "1066   1066           1989.0    The Power of One   Bryce Courtenay   \n",
       "1067   1067           1930.0  The Maltese Falcon  Dashiell Hammett   \n",
       "1068   1068           2011.0          Night Road    Kristin Hannah   \n",
       "1069   1069           1999.0            Tripwire         Lee Child   \n",
       "\n",
       "     language_code Author_Rating  Book_average_rating  Book_ratings_count  \\\n",
       "1065           eng  Intermediate                 3.52               37379   \n",
       "1066           eng     Excellent                 4.34               57312   \n",
       "1067           eng  Intermediate                 3.92               58742   \n",
       "1068         en-US     Excellent                 4.17               58028   \n",
       "1069           eng     Excellent                 4.07               55251   \n",
       "\n",
       "              genre  gross sales  publisher revenue  sale price  sales rank  \\\n",
       "1065     nonfiction       104.94             62.964        0.99        1268   \n",
       "1066  genre fiction       846.94            508.164        7.99        1270   \n",
       "1067  genre fiction       846.94            508.164        7.99        1271   \n",
       "1068  genre fiction       104.94             62.964        0.99        1272   \n",
       "1069  genre fiction       316.94              0.000        2.99        1273   \n",
       "\n",
       "                          Publisher   units sold  \n",
       "1065  Amazon Digital Services,  Inc.         106  \n",
       "1066                Random House LLC         106  \n",
       "1067             Hachette Book Group         106  \n",
       "1068  Amazon Digital Services,  Inc.         106  \n",
       "1069  Amazon Digital Services,  Inc.         106  "
      ]
     },
     "execution_count": 6,
     "metadata": {},
     "output_type": "execute_result"
    }
   ],
   "source": [
    "df.tail()"
   ]
  },
  {
   "cell_type": "code",
   "execution_count": 7,
   "id": "118329ec",
   "metadata": {},
   "outputs": [
    {
     "name": "stdout",
     "output_type": "stream",
     "text": [
      "<class 'pandas.core.frame.DataFrame'>\n",
      "RangeIndex: 1070 entries, 0 to 1069\n",
      "Data columns (total 15 columns):\n",
      " #   Column               Non-Null Count  Dtype  \n",
      "---  ------               --------------  -----  \n",
      " 0   index                1070 non-null   int64  \n",
      " 1   Publishing Year      1069 non-null   float64\n",
      " 2   Book Name            1047 non-null   object \n",
      " 3   Author               1070 non-null   object \n",
      " 4   language_code        1017 non-null   object \n",
      " 5   Author_Rating        1070 non-null   object \n",
      " 6   Book_average_rating  1070 non-null   float64\n",
      " 7   Book_ratings_count   1070 non-null   int64  \n",
      " 8   genre                1070 non-null   object \n",
      " 9   gross sales          1070 non-null   float64\n",
      " 10  publisher revenue    1070 non-null   float64\n",
      " 11  sale price           1070 non-null   float64\n",
      " 12  sales rank           1070 non-null   int64  \n",
      " 13  Publisher            1070 non-null   object \n",
      " 14  units sold           1070 non-null   int64  \n",
      "dtypes: float64(5), int64(4), object(6)\n",
      "memory usage: 125.5+ KB\n"
     ]
    }
   ],
   "source": [
    "df.info()"
   ]
  },
  {
   "cell_type": "code",
   "execution_count": 8,
   "id": "d7334a73",
   "metadata": {},
   "outputs": [
    {
     "data": {
      "application/vnd.microsoft.datawrangler.viewer.v0+json": {
       "columns": [
        {
         "name": "index",
         "rawType": "object",
         "type": "string"
        },
        {
         "name": "index",
         "rawType": "float64",
         "type": "float"
        },
        {
         "name": "Publishing Year",
         "rawType": "float64",
         "type": "float"
        },
        {
         "name": "Book_average_rating",
         "rawType": "float64",
         "type": "float"
        },
        {
         "name": "Book_ratings_count",
         "rawType": "float64",
         "type": "float"
        },
        {
         "name": "gross sales",
         "rawType": "float64",
         "type": "float"
        },
        {
         "name": "publisher revenue",
         "rawType": "float64",
         "type": "float"
        },
        {
         "name": "sale price",
         "rawType": "float64",
         "type": "float"
        },
        {
         "name": "sales rank",
         "rawType": "float64",
         "type": "float"
        },
        {
         "name": "units sold",
         "rawType": "float64",
         "type": "float"
        }
       ],
       "ref": "8c512f14-a444-4e88-8b29-1939a82c2b41",
       "rows": [
        [
         "count",
         "1070.0",
         "1069.0",
         "1070.0",
         "1070.0",
         "1070.0",
         "1070.0",
         "1070.0",
         "1070.0",
         "1070.0"
        ],
        [
         "mean",
         "534.5",
         "1971.377923292797",
         "4.007",
         "94909.91308411215",
         "1856.6229439252338",
         "843.2810299065421",
         "4.869560747663551",
         "611.6523364485981",
         "9676.980373831775"
        ],
        [
         "std",
         "309.02669787576605",
         "185.08025721167814",
         "0.2472438720639047",
         "31513.242517803377",
         "3936.9242404502693",
         "2257.5967431564554",
         "3.5599192628024627",
         "369.8498300535056",
         "15370.571305845782"
        ],
        [
         "min",
         "0.0",
         "-560.0",
         "2.97",
         "27308.0",
         "104.94",
         "0.0",
         "0.99",
         "1.0",
         "106.0"
        ],
        [
         "25%",
         "267.25",
         "1985.0",
         "3.85",
         "70398.0",
         "372.46500000000003",
         "0.0",
         "1.99",
         "287.5",
         "551.25"
        ],
        [
         "50%",
         "534.5",
         "2003.0",
         "4.015",
         "89309.0",
         "809.745",
         "273.078",
         "3.99",
         "595.5",
         "3924.0"
        ],
        [
         "75%",
         "801.75",
         "2010.0",
         "4.17",
         "113906.5",
         "1487.9575",
         "721.1804999999999",
         "6.99",
         "932.5",
         "5312.25"
        ],
        [
         "max",
         "1069.0",
         "2016.0",
         "4.77",
         "206792.0",
         "47795.0",
         "28677.0",
         "33.86",
         "1273.0",
         "61560.0"
        ]
       ],
       "shape": {
        "columns": 9,
        "rows": 8
       }
      },
      "text/html": [
       "<div>\n",
       "<style scoped>\n",
       "    .dataframe tbody tr th:only-of-type {\n",
       "        vertical-align: middle;\n",
       "    }\n",
       "\n",
       "    .dataframe tbody tr th {\n",
       "        vertical-align: top;\n",
       "    }\n",
       "\n",
       "    .dataframe thead th {\n",
       "        text-align: right;\n",
       "    }\n",
       "</style>\n",
       "<table border=\"1\" class=\"dataframe\">\n",
       "  <thead>\n",
       "    <tr style=\"text-align: right;\">\n",
       "      <th></th>\n",
       "      <th>index</th>\n",
       "      <th>Publishing Year</th>\n",
       "      <th>Book_average_rating</th>\n",
       "      <th>Book_ratings_count</th>\n",
       "      <th>gross sales</th>\n",
       "      <th>publisher revenue</th>\n",
       "      <th>sale price</th>\n",
       "      <th>sales rank</th>\n",
       "      <th>units sold</th>\n",
       "    </tr>\n",
       "  </thead>\n",
       "  <tbody>\n",
       "    <tr>\n",
       "      <th>count</th>\n",
       "      <td>1070.000000</td>\n",
       "      <td>1069.000000</td>\n",
       "      <td>1070.000000</td>\n",
       "      <td>1070.000000</td>\n",
       "      <td>1070.000000</td>\n",
       "      <td>1070.000000</td>\n",
       "      <td>1070.000000</td>\n",
       "      <td>1070.000000</td>\n",
       "      <td>1070.000000</td>\n",
       "    </tr>\n",
       "    <tr>\n",
       "      <th>mean</th>\n",
       "      <td>534.500000</td>\n",
       "      <td>1971.377923</td>\n",
       "      <td>4.007000</td>\n",
       "      <td>94909.913084</td>\n",
       "      <td>1856.622944</td>\n",
       "      <td>843.281030</td>\n",
       "      <td>4.869561</td>\n",
       "      <td>611.652336</td>\n",
       "      <td>9676.980374</td>\n",
       "    </tr>\n",
       "    <tr>\n",
       "      <th>std</th>\n",
       "      <td>309.026698</td>\n",
       "      <td>185.080257</td>\n",
       "      <td>0.247244</td>\n",
       "      <td>31513.242518</td>\n",
       "      <td>3936.924240</td>\n",
       "      <td>2257.596743</td>\n",
       "      <td>3.559919</td>\n",
       "      <td>369.849830</td>\n",
       "      <td>15370.571306</td>\n",
       "    </tr>\n",
       "    <tr>\n",
       "      <th>min</th>\n",
       "      <td>0.000000</td>\n",
       "      <td>-560.000000</td>\n",
       "      <td>2.970000</td>\n",
       "      <td>27308.000000</td>\n",
       "      <td>104.940000</td>\n",
       "      <td>0.000000</td>\n",
       "      <td>0.990000</td>\n",
       "      <td>1.000000</td>\n",
       "      <td>106.000000</td>\n",
       "    </tr>\n",
       "    <tr>\n",
       "      <th>25%</th>\n",
       "      <td>267.250000</td>\n",
       "      <td>1985.000000</td>\n",
       "      <td>3.850000</td>\n",
       "      <td>70398.000000</td>\n",
       "      <td>372.465000</td>\n",
       "      <td>0.000000</td>\n",
       "      <td>1.990000</td>\n",
       "      <td>287.500000</td>\n",
       "      <td>551.250000</td>\n",
       "    </tr>\n",
       "    <tr>\n",
       "      <th>50%</th>\n",
       "      <td>534.500000</td>\n",
       "      <td>2003.000000</td>\n",
       "      <td>4.015000</td>\n",
       "      <td>89309.000000</td>\n",
       "      <td>809.745000</td>\n",
       "      <td>273.078000</td>\n",
       "      <td>3.990000</td>\n",
       "      <td>595.500000</td>\n",
       "      <td>3924.000000</td>\n",
       "    </tr>\n",
       "    <tr>\n",
       "      <th>75%</th>\n",
       "      <td>801.750000</td>\n",
       "      <td>2010.000000</td>\n",
       "      <td>4.170000</td>\n",
       "      <td>113906.500000</td>\n",
       "      <td>1487.957500</td>\n",
       "      <td>721.180500</td>\n",
       "      <td>6.990000</td>\n",
       "      <td>932.500000</td>\n",
       "      <td>5312.250000</td>\n",
       "    </tr>\n",
       "    <tr>\n",
       "      <th>max</th>\n",
       "      <td>1069.000000</td>\n",
       "      <td>2016.000000</td>\n",
       "      <td>4.770000</td>\n",
       "      <td>206792.000000</td>\n",
       "      <td>47795.000000</td>\n",
       "      <td>28677.000000</td>\n",
       "      <td>33.860000</td>\n",
       "      <td>1273.000000</td>\n",
       "      <td>61560.000000</td>\n",
       "    </tr>\n",
       "  </tbody>\n",
       "</table>\n",
       "</div>"
      ],
      "text/plain": [
       "             index  Publishing Year  Book_average_rating  Book_ratings_count  \\\n",
       "count  1070.000000      1069.000000          1070.000000         1070.000000   \n",
       "mean    534.500000      1971.377923             4.007000        94909.913084   \n",
       "std     309.026698       185.080257             0.247244        31513.242518   \n",
       "min       0.000000      -560.000000             2.970000        27308.000000   \n",
       "25%     267.250000      1985.000000             3.850000        70398.000000   \n",
       "50%     534.500000      2003.000000             4.015000        89309.000000   \n",
       "75%     801.750000      2010.000000             4.170000       113906.500000   \n",
       "max    1069.000000      2016.000000             4.770000       206792.000000   \n",
       "\n",
       "        gross sales  publisher revenue   sale price   sales rank    units sold  \n",
       "count   1070.000000        1070.000000  1070.000000  1070.000000   1070.000000  \n",
       "mean    1856.622944         843.281030     4.869561   611.652336   9676.980374  \n",
       "std     3936.924240        2257.596743     3.559919   369.849830  15370.571306  \n",
       "min      104.940000           0.000000     0.990000     1.000000    106.000000  \n",
       "25%      372.465000           0.000000     1.990000   287.500000    551.250000  \n",
       "50%      809.745000         273.078000     3.990000   595.500000   3924.000000  \n",
       "75%     1487.957500         721.180500     6.990000   932.500000   5312.250000  \n",
       "max    47795.000000       28677.000000    33.860000  1273.000000  61560.000000  "
      ]
     },
     "execution_count": 8,
     "metadata": {},
     "output_type": "execute_result"
    }
   ],
   "source": [
    "df.describe()"
   ]
  },
  {
   "cell_type": "markdown",
   "id": "d9d95687",
   "metadata": {},
   "source": [
    "Task: Remove the negative value of minimum publishing year. After clicking run in above column, the dataset will remove the negative value to return the minimum publishing year > 1900 i.e 1901"
   ]
  },
  {
   "cell_type": "code",
   "execution_count": 9,
   "id": "824cac59",
   "metadata": {},
   "outputs": [],
   "source": [
    "df=df[df[\"Publishing Year\"]>1900]"
   ]
  },
  {
   "cell_type": "markdown",
   "id": "0dc605b9",
   "metadata": {},
   "source": [
    "Step 4: Data Cleaning"
   ]
  },
  {
   "cell_type": "markdown",
   "id": "b227ca32",
   "metadata": {},
   "source": [
    "4.1 CHecking for missing values"
   ]
  },
  {
   "cell_type": "code",
   "execution_count": 37,
   "id": "1e5c1164",
   "metadata": {},
   "outputs": [
    {
     "data": {
      "application/vnd.microsoft.datawrangler.viewer.v0+json": {
       "columns": [
        {
         "name": "index",
         "rawType": "object",
         "type": "string"
        },
        {
         "name": "0",
         "rawType": "int64",
         "type": "integer"
        }
       ],
       "ref": "7dc32b30-fa8c-4773-b8c7-0675a87fc069",
       "rows": [
        [
         "index",
         "0"
        ],
        [
         "Publishing Year",
         "0"
        ],
        [
         "Book Name",
         "0"
        ],
        [
         "Author",
         "0"
        ],
        [
         "language_code",
         "47"
        ],
        [
         "Author_Rating",
         "0"
        ],
        [
         "Book_average_rating",
         "0"
        ],
        [
         "Book_ratings_count",
         "0"
        ],
        [
         "genre",
         "0"
        ],
        [
         "gross sales",
         "0"
        ],
        [
         "publisher revenue",
         "0"
        ],
        [
         "sale price",
         "0"
        ],
        [
         "sales rank",
         "0"
        ],
        [
         "Publisher",
         "0"
        ],
        [
         "units sold",
         "0"
        ]
       ],
       "shape": {
        "columns": 1,
        "rows": 15
       }
      },
      "text/plain": [
       "index                   0\n",
       "Publishing Year         0\n",
       "Book Name               0\n",
       "Author                  0\n",
       "language_code          47\n",
       "Author_Rating           0\n",
       "Book_average_rating     0\n",
       "Book_ratings_count      0\n",
       "genre                   0\n",
       "gross sales             0\n",
       "publisher revenue       0\n",
       "sale price              0\n",
       "sales rank              0\n",
       "Publisher               0\n",
       "units sold              0\n",
       "dtype: int64"
      ]
     },
     "execution_count": 37,
     "metadata": {},
     "output_type": "execute_result"
    }
   ],
   "source": [
    "df.isnull().sum()"
   ]
  },
  {
   "cell_type": "markdown",
   "id": "f1dae2b0",
   "metadata": {},
   "source": [
    "Remark --> we have missing values in 21 rows of column Book Name and 49 in language_code. Lets drop the missing values of book name as it would be appropriate to do so. However, the rows of language_code may have valuable information regarding the book. So we hav eto fill it"
   ]
  },
  {
   "cell_type": "markdown",
   "id": "27a27be2",
   "metadata": {},
   "source": [
    "4.2 Checking for Duplicate Vlaues"
   ]
  },
  {
   "cell_type": "code",
   "execution_count": 11,
   "id": "8adae725",
   "metadata": {},
   "outputs": [
    {
     "data": {
      "text/plain": [
       "0"
      ]
     },
     "execution_count": 11,
     "metadata": {},
     "output_type": "execute_result"
    }
   ],
   "source": [
    "df.duplicated().sum()"
   ]
  },
  {
   "cell_type": "code",
   "execution_count": 38,
   "id": "5d312fb5",
   "metadata": {},
   "outputs": [
    {
     "data": {
      "application/vnd.microsoft.datawrangler.viewer.v0+json": {
       "columns": [
        {
         "name": "index",
         "rawType": "object",
         "type": "string"
        },
        {
         "name": "0",
         "rawType": "int64",
         "type": "integer"
        }
       ],
       "ref": "ceffd52d-29aa-480b-b1a8-23b689aa18a4",
       "rows": [
        [
         "index",
         "988"
        ],
        [
         "Publishing Year",
         "101"
        ],
        [
         "Book Name",
         "987"
        ],
        [
         "Author",
         "669"
        ],
        [
         "language_code",
         "8"
        ],
        [
         "Author_Rating",
         "4"
        ],
        [
         "Book_average_rating",
         "133"
        ],
        [
         "Book_ratings_count",
         "983"
        ],
        [
         "genre",
         "4"
        ],
        [
         "gross sales",
         "774"
        ],
        [
         "publisher revenue",
         "570"
        ],
        [
         "sale price",
         "143"
        ],
        [
         "sales rank",
         "818"
        ],
        [
         "Publisher",
         "9"
        ],
        [
         "units sold",
         "470"
        ]
       ],
       "shape": {
        "columns": 1,
        "rows": 15
       }
      },
      "text/plain": [
       "index                  988\n",
       "Publishing Year        101\n",
       "Book Name              987\n",
       "Author                 669\n",
       "language_code            8\n",
       "Author_Rating            4\n",
       "Book_average_rating    133\n",
       "Book_ratings_count     983\n",
       "genre                    4\n",
       "gross sales            774\n",
       "publisher revenue      570\n",
       "sale price             143\n",
       "sales rank             818\n",
       "Publisher                9\n",
       "units sold             470\n",
       "dtype: int64"
      ]
     },
     "execution_count": 38,
     "metadata": {},
     "output_type": "execute_result"
    }
   ],
   "source": [
    "df.nunique()"
   ]
  },
  {
   "cell_type": "markdown",
   "id": "42a03b9d",
   "metadata": {},
   "source": [
    "4.3 Fixing Missing Values"
   ]
  },
  {
   "cell_type": "code",
   "execution_count": null,
   "id": "db43a9a4",
   "metadata": {},
   "outputs": [
    {
     "name": "stderr",
     "output_type": "stream",
     "text": [
      "C:\\Users\\sabin\\AppData\\Local\\Temp\\ipykernel_20016\\2564980549.py:2: SettingWithCopyWarning: \n",
      "A value is trying to be set on a copy of a slice from a DataFrame\n",
      "\n",
      "See the caveats in the documentation: https://pandas.pydata.org/pandas-docs/stable/user_guide/indexing.html#returning-a-view-versus-a-copy\n",
      "  df.dropna(subset=\"Book Name\", inplace=True)\n"
     ]
    }
   ],
   "source": [
    "#dropping the rows of Book Name without any values\n",
    "df.dropna(subset=\"Book Name\", inplace=True)"
   ]
  },
  {
   "cell_type": "markdown",
   "id": "8f55f44d",
   "metadata": {},
   "source": [
    "So, here the code removes the rows of Book Name column with missing values  and with the hlp of inplace= True, we get the changes in the original file. And when we re-run the isnull().sum(). Now the value of the Book Name becomes 0 signifying complete removal of missing values"
   ]
  },
  {
   "cell_type": "markdown",
   "id": "79fa1af8",
   "metadata": {},
   "source": [
    "Step 5: Exploratory Data Analysis"
   ]
  },
  {
   "cell_type": "markdown",
   "id": "890f514d",
   "metadata": {},
   "source": [
    "5.1 Categorical vs COntinuous Columns"
   ]
  },
  {
   "cell_type": "code",
   "execution_count": 15,
   "id": "1d22902d",
   "metadata": {},
   "outputs": [
    {
     "name": "stdout",
     "output_type": "stream",
     "text": [
      "Continuous_col= ['index', 'Publishing Year', 'Book_average_rating', 'Book_ratings_count', 'gross sales', 'publisher revenue', 'sale price', 'sales rank', 'units sold']\n",
      "Categorical_col= ['Book Name', 'Author', 'language_code', 'Author_Rating', 'genre', 'Publisher ']\n"
     ]
    }
   ],
   "source": [
    "categorical_col=[]\n",
    "continuous_col=[]\n",
    "for col in df.columns:\n",
    "    if df[col].nunique() > 10 and df[col].dtypes != 'object':\n",
    "        continuous_col.append(col)\n",
    "    else:\n",
    "        categorical_col.append(col)\n",
    "print(\"Continuous_col=\", continuous_col)\n",
    "print(\"Categorical_col=\", categorical_col)"
   ]
  },
  {
   "cell_type": "markdown",
   "id": "3a659cc6",
   "metadata": {},
   "source": [
    "5.3 Visualization"
   ]
  },
  {
   "cell_type": "markdown",
   "id": "e84015cf",
   "metadata": {},
   "source": [
    "5.3.1 Visualizing continuous_col"
   ]
  },
  {
   "cell_type": "code",
   "execution_count": 16,
   "id": "51c8bdc0",
   "metadata": {},
   "outputs": [
    {
     "name": "stdout",
     "output_type": "stream",
     "text": [
      "int64\n",
      "float64\n",
      "float64\n",
      "int64\n",
      "float64\n",
      "float64\n",
      "float64\n",
      "int64\n",
      "int64\n"
     ]
    }
   ],
   "source": [
    "for col in continuous_col:\n",
    "    print(df[col].dtypes)"
   ]
  },
  {
   "cell_type": "code",
   "execution_count": 17,
   "id": "714c7b31",
   "metadata": {},
   "outputs": [
    {
     "data": {
      "image/png": "[encoded data removed]",
      "text/plain": [
       "<Figure size 500x500 with 1 Axes>"
      ]
     },
     "metadata": {},
     "output_type": "display_data"
    },
    {
     "data": {
      "image/png": "[encoded data removed]",
      "text/plain": [
       "<Figure size 500x500 with 1 Axes>"
      ]
     },
     "metadata": {},
     "output_type": "display_data"
    },
    {
     "data": {
      "image/png": "[encoded data removed]",
      "text/plain": [
       "<Figure size 500x500 with 1 Axes>"
      ]
     },
     "metadata": {},
     "output_type": "display_data"
    },
    {
     "data": {
      "image/png": "[encoded data removed]",
      "text/plain": [
       "<Figure size 500x500 with 1 Axes>"
      ]
     },
     "metadata": {},
     "output_type": "display_data"
    },
    {
     "data": {
      "image/png": "[encoded data removed]",
      "text/plain": [
       "<Figure size 500x500 with 1 Axes>"
      ]
     },
     "metadata": {},
     "output_type": "display_data"
    },
    {
     "data": {
      "image/png": "[encoded data removed]",
      "text/plain": [
       "<Figure size 500x500 with 1 Axes>"
      ]
     },
     "metadata": {},
     "output_type": "display_data"
    },
    {
     "data": {
      "image/png": "[encoded data removed]",
      "text/plain": [
       "<Figure size 500x500 with 1 Axes>"
      ]
     },
     "metadata": {},
     "output_type": "display_data"
    },
    {
     "data": {
      "image/png": "[encoded data removed]",
      "text/plain": [
       "<Figure size 500x500 with 1 Axes>"
      ]
     },
     "metadata": {},
     "output_type": "display_data"
    },
    {
     "data": {
      "image/png": "[encoded data removed]",
      "text/plain": [
       "<Figure size 500x500 with 1 Axes>"
      ]
     },
     "metadata": {},
     "output_type": "display_data"
    }
   ],
   "source": [
    "#Continuous_col\n",
    "for col in continuous_col:\n",
    "    plt.figure(figsize=(5,5))\n",
    "    sns.histplot(data=df, x=col, kde=True)\n",
    "    plt.title(f\"Histogram of {col}\")\n",
    "    plt.show()"
   ]
  },
  {
   "cell_type": "markdown",
   "id": "1b270b3d",
   "metadata": {},
   "source": [
    "5.3.2 Visualizing Categorical Column"
   ]
  },
  {
   "cell_type": "markdown",
   "id": "4c8f1b9b",
   "metadata": {},
   "source": [
    "5.3.2.1 Visualizing genre"
   ]
  },
  {
   "cell_type": "code",
   "execution_count": 18,
   "id": "a5a73aa0",
   "metadata": {},
   "outputs": [
    {
     "data": {
      "application/vnd.microsoft.datawrangler.viewer.v0+json": {
       "columns": [
        {
         "name": "genre",
         "rawType": "object",
         "type": "string"
        },
        {
         "name": "count",
         "rawType": "int64",
         "type": "integer"
        }
       ],
       "ref": "6ac2f570-c5ca-4334-bc52-dad121ebe724",
       "rows": [
        [
         "genre fiction",
         "759"
        ],
        [
         "nonfiction",
         "160"
        ],
        [
         "fiction",
         "54"
        ],
        [
         "children",
         "15"
        ]
       ],
       "shape": {
        "columns": 1,
        "rows": 4
       }
      },
      "text/plain": [
       "genre\n",
       "genre fiction    759\n",
       "nonfiction       160\n",
       "fiction           54\n",
       "children          15\n",
       "Name: count, dtype: int64"
      ]
     },
     "execution_count": 18,
     "metadata": {},
     "output_type": "execute_result"
    }
   ],
   "source": [
    "#Categorical Column -- genre\n",
    "df[\"genre\"].value_counts()"
   ]
  },
  {
   "cell_type": "code",
   "execution_count": 19,
   "id": "f411d89b",
   "metadata": {},
   "outputs": [
    {
     "data": {
      "image/png": "[encoded data removed]",
      "text/plain": [
       "<Figure size 1000x800 with 1 Axes>"
      ]
     },
     "metadata": {},
     "output_type": "display_data"
    }
   ],
   "source": [
    "plt.figure(figsize=(10,8))\n",
    "sns.countplot(x=\"genre\", data=df)\n",
    "plt.title(\"Books Count By Genre\")\n",
    "plt.xlabel(\"Genre\")\n",
    "plt.ylabel(\"Count\")\n",
    "plt.show()"
   ]
  },
  {
   "cell_type": "code",
   "execution_count": 20,
   "id": "1761cb2f",
   "metadata": {},
   "outputs": [
    {
     "data": {
      "text/plain": [
       "['Book Name',\n",
       " 'Author',\n",
       " 'language_code',\n",
       " 'Author_Rating',\n",
       " 'genre',\n",
       " 'Publisher ']"
      ]
     },
     "execution_count": 20,
     "metadata": {},
     "output_type": "execute_result"
    }
   ],
   "source": [
    "categorical_col"
   ]
  },
  {
   "cell_type": "markdown",
   "id": "2cafcf46",
   "metadata": {},
   "source": [
    "5.3.2.2 Visualizing Book Name"
   ]
  },
  {
   "cell_type": "code",
   "execution_count": 21,
   "id": "1a551395",
   "metadata": {},
   "outputs": [
    {
     "data": {
      "application/vnd.microsoft.datawrangler.viewer.v0+json": {
       "columns": [
        {
         "name": "Book Name",
         "rawType": "object",
         "type": "string"
        },
        {
         "name": "count",
         "rawType": "int64",
         "type": "integer"
        }
       ],
       "ref": "b7444451-893c-4247-b241-e886c5660d5d",
       "rows": [
        [
         "Persepolis",
         "2"
        ],
        [
         "Beowulf",
         "1"
        ],
        [
         "Rosemary's Baby",
         "1"
        ],
        [
         "Sybil",
         "1"
        ],
        [
         "Cosmos",
         "1"
        ],
        [
         "Haunted: A Novel of Stories",
         "1"
        ],
        [
         "The Shell Seekers",
         "1"
        ],
        [
         "What Is the What: The Autobiography of Valentino Achak Deng",
         "1"
        ],
        [
         "CrÃ³nica de una muerte anunciada",
         "1"
        ],
        [
         "Killing Lincoln: The Shocking Assassination that Changed America Forever",
         "1"
        ],
        [
         "The Lowland",
         "1"
        ],
        [
         "The Ruins of Gorlan",
         "1"
        ],
        [
         "Wintergirls",
         "1"
        ],
        [
         "The Brethren",
         "1"
        ],
        [
         "Assassin's Quest",
         "1"
        ],
        [
         "The Talisman",
         "1"
        ],
        [
         "Hard Eight",
         "1"
        ],
        [
         "The Path of Daggers",
         "1"
        ],
        [
         "The Dharma Bums",
         "1"
        ],
        [
         "The Reckoning",
         "1"
        ],
        [
         "Behind the Beautiful Forevers: Life, Death, and Hope in a Mumbai Undercity",
         "1"
        ],
        [
         "Mary Poppins",
         "1"
        ],
        [
         "Red Seas Under Red Skies",
         "1"
        ],
        [
         "The House on Mango Street",
         "1"
        ],
        [
         "City of Thieves",
         "1"
        ],
        [
         "Halfway to the Grave",
         "1"
        ],
        [
         "The Twits",
         "1"
        ],
        [
         "Abhorsen",
         "1"
        ],
        [
         "The Beach House",
         "1"
        ],
        [
         "Eyes of the Dragon",
         "1"
        ],
        [
         "The Vile Village",
         "1"
        ],
        [
         "Loving Frank",
         "1"
        ],
        [
         "Leviathan Wakes",
         "1"
        ],
        [
         "Before They Are Hanged",
         "1"
        ],
        [
         "Dead Reckoning",
         "1"
        ],
        [
         "The Accidental Tourist",
         "1"
        ],
        [
         "Aristotle and Dante Discover the Secrets of the Universe",
         "1"
        ],
        [
         "ä¸–ç•Œã®çµ‚ã‚Šã¨ãƒãƒ¼ãƒ‰ãƒœã‚¤ãƒ«ãƒ‰ãƒ»ãƒ¯ãƒ³ãƒ€ãƒ¼ãƒ©ãƒ³ãƒ‰ [Sekai no owari to hÄdoboirudo wandÄrando]",
         "1"
        ],
        [
         "Na margem do rio Piedra eu sentei e chorei",
         "1"
        ],
        [
         "Four Past Midnight",
         "1"
        ],
        [
         "The Marriage Bargain",
         "1"
        ],
        [
         "Anne of Avonlea",
         "1"
        ],
        [
         "The Little Engine That Could",
         "1"
        ],
        [
         "We Are All Completely Beside Ourselves",
         "1"
        ],
        [
         "Children of the Mind",
         "1"
        ],
        [
         "Ulysses",
         "1"
        ],
        [
         "Someone Like You",
         "1"
        ],
        [
         "Moloka'i",
         "1"
        ],
        [
         "The Witching Hour",
         "1"
        ],
        [
         "This Present Darkness",
         "1"
        ]
       ],
       "shape": {
        "columns": 1,
        "rows": 987
       }
      },
      "text/plain": [
       "Book Name\n",
       "Persepolis                 2\n",
       "Beowulf                    1\n",
       "Rosemary's Baby            1\n",
       "Sybil                      1\n",
       "Cosmos                     1\n",
       "                          ..\n",
       "Rendezvous with Rama       1\n",
       "The Queen of the Damned    1\n",
       "The Age of Innocence       1\n",
       "The Selfish Gene           1\n",
       "Tripwire                   1\n",
       "Name: count, Length: 987, dtype: int64"
      ]
     },
     "execution_count": 21,
     "metadata": {},
     "output_type": "execute_result"
    }
   ],
   "source": [
    "#Book name\n",
    "df[\"Book Name\"].value_counts()"
   ]
  },
  {
   "cell_type": "markdown",
   "id": "b5cc0e4a",
   "metadata": {},
   "source": [
    "5.3.2.3 Visualizing Book Counts By Publishers"
   ]
  },
  {
   "cell_type": "code",
   "execution_count": 40,
   "id": "7842ba6d",
   "metadata": {},
   "outputs": [
    {
     "name": "stderr",
     "output_type": "stream",
     "text": [
      "C:\\Users\\sabin\\AppData\\Local\\Temp\\ipykernel_20016\\1997308224.py:1: SettingWithCopyWarning: \n",
      "A value is trying to be set on a copy of a slice from a DataFrame\n",
      "\n",
      "See the caveats in the documentation: https://pandas.pydata.org/pandas-docs/stable/user_guide/indexing.html#returning-a-view-versus-a-copy\n",
      "  df.rename(columns={'Publisher ':'Publisher'}, inplace=True) #Changing the column name from 'Publisher ' to 'Publisher'\n"
     ]
    }
   ],
   "source": [
    "df.rename(columns={'Publisher ':'Publisher'}, inplace=True) #Changing the column name from 'Publisher ' to 'Publisher'"
   ]
  },
  {
   "cell_type": "code",
   "execution_count": 23,
   "id": "de4bf274",
   "metadata": {},
   "outputs": [
    {
     "data": {
      "application/vnd.microsoft.datawrangler.viewer.v0+json": {
       "columns": [
        {
         "name": "Publisher",
         "rawType": "object",
         "type": "string"
        },
        {
         "name": "count",
         "rawType": "int64",
         "type": "integer"
        }
       ],
       "ref": "69d0e62c-60fc-491d-a845-11a346433e7c",
       "rows": [
        [
         "Amazon Digital Services,  Inc.",
         "561"
        ],
        [
         "Random House LLC",
         "113"
        ],
        [
         "Penguin Group (USA) LLC",
         "93"
        ],
        [
         "HarperCollins Publishers",
         "63"
        ],
        [
         "Hachette Book Group",
         "56"
        ],
        [
         "Simon and Schuster Digital Sales Inc",
         "55"
        ],
        [
         "Macmillan",
         "39"
        ],
        [
         "HarperCollins Publishing",
         "4"
        ],
        [
         "HarperCollins Christian Publishing",
         "4"
        ]
       ],
       "shape": {
        "columns": 1,
        "rows": 9
       }
      },
      "text/plain": [
       "Publisher\n",
       "Amazon Digital Services,  Inc.          561\n",
       "Random House LLC                        113\n",
       "Penguin Group (USA) LLC                  93\n",
       "HarperCollins Publishers                 63\n",
       "Hachette Book Group                      56\n",
       "Simon and Schuster Digital Sales Inc     55\n",
       "Macmillan                                39\n",
       "HarperCollins Publishing                  4\n",
       "HarperCollins Christian Publishing        4\n",
       "Name: count, dtype: int64"
      ]
     },
     "execution_count": 23,
     "metadata": {},
     "output_type": "execute_result"
    }
   ],
   "source": [
    "df[\"Publisher\"].value_counts()"
   ]
  },
  {
   "cell_type": "code",
   "execution_count": 24,
   "id": "a40e6e8d",
   "metadata": {},
   "outputs": [
    {
     "data": {
      "image/png": "[encoded data removed]",
      "text/plain": [
       "<Figure size 1000x800 with 1 Axes>"
      ]
     },
     "metadata": {},
     "output_type": "display_data"
    }
   ],
   "source": [
    "plt.figure(figsize=(10,8))\n",
    "sns.countplot(x=\"Publisher\", data=df)\n",
    "plt.title(\"Books Count By Publisher\")\n",
    "plt.xlabel(\"Publisher\")\n",
    "plt.xticks(rotation=90)\n",
    "plt.ylabel(\"Count\")\n",
    "plt.show()"
   ]
  },
  {
   "cell_type": "markdown",
   "id": "e73b03d5",
   "metadata": {},
   "source": [
    "5.3.2.4 Visualization of Book Counts by Language"
   ]
  },
  {
   "cell_type": "code",
   "execution_count": 43,
   "id": "c866eb80",
   "metadata": {},
   "outputs": [
    {
     "data": {
      "text/plain": [
       "array(['en-US', 'eng', nan, 'spa', 'en-GB', 'fre', 'en-CA', 'nl', 'ara'],\n",
       "      dtype=object)"
      ]
     },
     "execution_count": 43,
     "metadata": {},
     "output_type": "execute_result"
    }
   ],
   "source": [
    "df['language_code'].unique()"
   ]
  },
  {
   "cell_type": "code",
   "execution_count": 44,
   "id": "006e9c2b",
   "metadata": {},
   "outputs": [
    {
     "data": {
      "application/vnd.microsoft.datawrangler.viewer.v0+json": {
       "columns": [
        {
         "name": "language_code",
         "rawType": "object",
         "type": "string"
        },
        {
         "name": "count",
         "rawType": "int64",
         "type": "integer"
        }
       ],
       "ref": "25186611-3a6f-4766-b0f0-a6f83d6fc3eb",
       "rows": [
        [
         "eng",
         "670"
        ],
        [
         "en-US",
         "226"
        ],
        [
         "en-GB",
         "29"
        ],
        [
         "en-CA",
         "7"
        ],
        [
         "fre",
         "4"
        ],
        [
         "spa",
         "2"
        ],
        [
         "ara",
         "2"
        ],
        [
         "nl",
         "1"
        ]
       ],
       "shape": {
        "columns": 1,
        "rows": 8
       }
      },
      "text/plain": [
       "language_code\n",
       "eng      670\n",
       "en-US    226\n",
       "en-GB     29\n",
       "en-CA      7\n",
       "fre        4\n",
       "spa        2\n",
       "ara        2\n",
       "nl         1\n",
       "Name: count, dtype: int64"
      ]
     },
     "execution_count": 44,
     "metadata": {},
     "output_type": "execute_result"
    }
   ],
   "source": [
    "df['language_code'].value_counts()"
   ]
  },
  {
   "cell_type": "code",
   "execution_count": 45,
   "id": "e12777a5",
   "metadata": {},
   "outputs": [
    {
     "data": {
      "image/png": "[encoded data removed]",
      "text/plain": [
       "<Figure size 1000x800 with 1 Axes>"
      ]
     },
     "metadata": {},
     "output_type": "display_data"
    }
   ],
   "source": [
    "plt.figure(figsize=(10,8))\n",
    "sns.countplot(x=\"language_code\", data=df)\n",
    "plt.title(\"Books Count By Language Code\")\n",
    "plt.xlabel(\"Language_code\")\n",
    "plt.xticks(rotation=90)\n",
    "plt.ylabel(\"Count\")\n",
    "plt.show()"
   ]
  },
  {
   "cell_type": "markdown",
   "id": "9a4c1360",
   "metadata": {},
   "source": [
    "5.3.3 Relationship between Author and Book Average Rating"
   ]
  },
  {
   "cell_type": "code",
   "execution_count": 25,
   "id": "87e0ab50",
   "metadata": {},
   "outputs": [
    {
     "data": {
      "application/vnd.microsoft.datawrangler.viewer.v0+json": {
       "columns": [
        {
         "name": "Author",
         "rawType": "object",
         "type": "string"
        },
        {
         "name": "Book_average_rating",
         "rawType": "float64",
         "type": "float"
        }
       ],
       "ref": "885722fd-b72f-4b72-ab0f-d0fb7f4b4d7c",
       "rows": [
        [
         "Bill Watterson",
         "4.65"
        ],
        [
         "Bill Watterson, G.B. Trudeau",
         "4.61"
        ],
        [
         "J.R.R. Tolkien",
         "4.59"
        ],
        [
         "George R.R. Martin",
         "4.56"
        ],
        [
         "Sarah J. Maas",
         "4.526"
        ],
        [
         "Hiromu Arakawa, Akira Watanabe",
         "4.49"
        ],
        [
         "Cassandra Clare",
         "4.48"
        ],
        [
         "Art Spiegelman",
         "4.470000000000001"
        ],
        [
         "Larry McMurtry",
         "4.47"
        ],
        [
         "Arthur Conan Doyle, Kyle Freeman",
         "4.46"
        ],
        [
         "Jon Stone, Michael J. Smollin",
         "4.45"
        ],
        [
         "Robert Kirkman",
         "4.43"
        ],
        [
         "Hajime Isayama, Sheldon Drzka",
         "4.42"
        ],
        [
         "Tsugumi Ohba, Takeshi Obata",
         "4.42"
        ],
        [
         "EiichirÅ Oda, Andy Nakatani",
         "4.42"
        ],
        [
         "Robert Jordan, Brandon Sanderson",
         "4.42"
        ],
        [
         "Stephen E. Ambrose",
         "4.42"
        ],
        [
         "Alex Haley",
         "4.42"
        ],
        [
         "Marissa Meyer",
         "4.416666666666667"
        ],
        [
         "Atul Gawande",
         "4.4"
        ],
        [
         "Ta-Nehisi Coates",
         "4.4"
        ],
        [
         "Hiro Mashima, William Flanagan",
         "4.4"
        ],
        [
         "Brandon Sanderson",
         "4.3999999999999995"
        ],
        [
         "Sharon M. Draper",
         "4.37"
        ],
        [
         "James Clavell",
         "4.37"
        ],
        [
         "Yana Toboso, Tomo Kimura",
         "4.37"
        ],
        [
         "Diana Gabaldon",
         "4.366"
        ],
        [
         "Patrick Ness, Jim Kay, Siobhan Dowd",
         "4.36"
        ],
        [
         "Marjane Satrapi, Mattias Ripa, Blake Ferris, Anjali Singh",
         "4.36"
        ],
        [
         "Alan Moore, Brian Bolland, Tim Sale",
         "4.36"
        ],
        [
         "A.A. Milne, Ernest H. Shepard",
         "4.36"
        ],
        [
         "Ruta Sepetys",
         "4.36"
        ],
        [
         "Sam McBratney, Anita Jeram",
         "4.36"
        ],
        [
         "Bisco Hatori",
         "4.36"
        ],
        [
         "Pierce Brown",
         "4.359999999999999"
        ],
        [
         "Rick Riordan",
         "4.3575"
        ],
        [
         "Masashi Kishimoto, Katy Bridges",
         "4.35"
        ],
        [
         "W. Bruce Cameron",
         "4.35"
        ],
        [
         "Benjamin Alire SÃ¡enz",
         "4.34"
        ],
        [
         "Thomas Keneally",
         "4.34"
        ],
        [
         "Robert Munsch, Sheila McGraw",
         "4.34"
        ],
        [
         "Mark Cotta Vaz",
         "4.34"
        ],
        [
         "Rohinton Mistry",
         "4.34"
        ],
        [
         "Marcus Luttrell, Patrick Robinson",
         "4.34"
        ],
        [
         "Bryce Courtenay",
         "4.34"
        ],
        [
         "J.R. Ward",
         "4.3342857142857145"
        ],
        [
         "Richelle Mead",
         "4.333333333333333"
        ],
        [
         "Colleen Hoover",
         "4.333333333333333"
        ],
        [
         "Shel Silverstein",
         "4.33"
        ],
        [
         "Leon Uris",
         "4.33"
        ]
       ],
       "shape": {
        "columns": 1,
        "rows": 669
       }
      },
      "text/plain": [
       "Author\n",
       "Bill Watterson                  4.650000\n",
       "Bill Watterson, G.B. Trudeau    4.610000\n",
       "J.R.R. Tolkien                  4.590000\n",
       "George R.R. Martin              4.560000\n",
       "Sarah J. Maas                   4.526000\n",
       "                                  ...   \n",
       "Chetan Bhagat                   3.273333\n",
       "Audrey Niffenegger              3.230000\n",
       "Herman Koch, Sam Garrett        3.220000\n",
       "P.D. James                      3.210000\n",
       "Sue Monk Kidd                   3.100000\n",
       "Name: Book_average_rating, Length: 669, dtype: float64"
      ]
     },
     "execution_count": 25,
     "metadata": {},
     "output_type": "execute_result"
    }
   ],
   "source": [
    "#Relationship between Author and their book rating\n",
    "df.groupby(\"Author\")[\"Book_average_rating\"].mean().sort_values(ascending=False)"
   ]
  },
  {
   "cell_type": "code",
   "execution_count": 26,
   "id": "42c6ed93",
   "metadata": {},
   "outputs": [
    {
     "data": {
      "application/vnd.microsoft.datawrangler.viewer.v0+json": {
       "columns": [
        {
         "name": "index",
         "rawType": "object",
         "type": "string"
        },
        {
         "name": "0",
         "rawType": "object",
         "type": "unknown"
        }
       ],
       "ref": "e441cf56-f436-44de-b3fa-409b65a9e7f4",
       "rows": [
        [
         "index",
         "int64"
        ],
        [
         "Publishing Year",
         "float64"
        ],
        [
         "Book Name",
         "object"
        ],
        [
         "Author",
         "object"
        ],
        [
         "language_code",
         "object"
        ],
        [
         "Author_Rating",
         "object"
        ],
        [
         "Book_average_rating",
         "float64"
        ],
        [
         "Book_ratings_count",
         "int64"
        ],
        [
         "genre",
         "object"
        ],
        [
         "gross sales",
         "float64"
        ],
        [
         "publisher revenue",
         "float64"
        ],
        [
         "sale price",
         "float64"
        ],
        [
         "sales rank",
         "int64"
        ],
        [
         "Publisher",
         "object"
        ],
        [
         "units sold",
         "int64"
        ]
       ],
       "shape": {
        "columns": 1,
        "rows": 15
       }
      },
      "text/plain": [
       "index                    int64\n",
       "Publishing Year        float64\n",
       "Book Name               object\n",
       "Author                  object\n",
       "language_code           object\n",
       "Author_Rating           object\n",
       "Book_average_rating    float64\n",
       "Book_ratings_count       int64\n",
       "genre                   object\n",
       "gross sales            float64\n",
       "publisher revenue      float64\n",
       "sale price             float64\n",
       "sales rank               int64\n",
       "Publisher               object\n",
       "units sold               int64\n",
       "dtype: object"
      ]
     },
     "execution_count": 26,
     "metadata": {},
     "output_type": "execute_result"
    }
   ],
   "source": [
    "df.dtypes"
   ]
  },
  {
   "cell_type": "markdown",
   "id": "1d5bb151",
   "metadata": {},
   "source": [
    "5.3.4 Relationship of Author with Publishing Year and Book_Average_Rating"
   ]
  },
  {
   "cell_type": "code",
   "execution_count": 46,
   "id": "732c6bc2",
   "metadata": {},
   "outputs": [
    {
     "data": {
      "application/vnd.microsoft.datawrangler.viewer.v0+json": {
       "columns": [
        {
         "name": "Author",
         "rawType": "object",
         "type": "string"
        },
        {
         "name": "Publishing Year",
         "rawType": "float64",
         "type": "float"
        },
        {
         "name": "Book_average_rating",
         "rawType": "float64",
         "type": "float"
        }
       ],
       "ref": "fb4e60a5-6ab1-495c-9b4a-dbfdcfe2cfd4",
       "rows": [
        [
         "Bill Watterson",
         "1988.0",
         "4.65"
        ],
        [
         "Bill Watterson, G.B. Trudeau",
         "1987.0",
         "4.61"
        ],
        [
         "J.R.R. Tolkien",
         "1973.0",
         "4.59"
        ],
        [
         "George R.R. Martin",
         "2000.0",
         "4.56"
        ],
        [
         "Sarah J. Maas",
         "2014.6",
         "4.526"
        ],
        [
         "Hiromu Arakawa, Akira Watanabe",
         "2002.0",
         "4.49"
        ],
        [
         "Cassandra Clare",
         "2014.0",
         "4.48"
        ],
        [
         "Art Spiegelman",
         "1988.5",
         "4.470000000000001"
        ],
        [
         "Larry McMurtry",
         "1985.0",
         "4.47"
        ],
        [
         "Arthur Conan Doyle, Kyle Freeman",
         "1914.0",
         "4.46"
        ],
        [
         "Jon Stone, Michael J. Smollin",
         "1971.0",
         "4.45"
        ],
        [
         "Robert Kirkman",
         "2009.0",
         "4.43"
        ],
        [
         "Hajime Isayama, Sheldon Drzka",
         "2010.0",
         "4.42"
        ],
        [
         "Tsugumi Ohba, Takeshi Obata",
         "2004.0",
         "4.42"
        ],
        [
         "EiichirÅ Oda, Andy Nakatani",
         "1997.0",
         "4.42"
        ],
        [
         "Robert Jordan, Brandon Sanderson",
         "2010.3333333333333",
         "4.42"
        ],
        [
         "Stephen E. Ambrose",
         "1992.0",
         "4.42"
        ],
        [
         "Alex Haley",
         "1976.0",
         "4.42"
        ],
        [
         "Marissa Meyer",
         "2014.0",
         "4.416666666666667"
        ],
        [
         "Atul Gawande",
         "2014.0",
         "4.4"
        ],
        [
         "Ta-Nehisi Coates",
         "2015.0",
         "4.4"
        ],
        [
         "Hiro Mashima, William Flanagan",
         "2006.0",
         "4.4"
        ],
        [
         "Brandon Sanderson",
         "2010.1666666666667",
         "4.3999999999999995"
        ],
        [
         "Sharon M. Draper",
         "2010.0",
         "4.37"
        ],
        [
         "James Clavell",
         "1975.0",
         "4.37"
        ],
        [
         "Yana Toboso, Tomo Kimura",
         "2007.0",
         "4.37"
        ],
        [
         "Diana Gabaldon",
         "2000.8",
         "4.366"
        ],
        [
         "Patrick Ness, Jim Kay, Siobhan Dowd",
         "2011.0",
         "4.36"
        ],
        [
         "Marjane Satrapi, Mattias Ripa, Blake Ferris, Anjali Singh",
         "2003.0",
         "4.36"
        ],
        [
         "Alan Moore, Brian Bolland, Tim Sale",
         "1988.0",
         "4.36"
        ],
        [
         "A.A. Milne, Ernest H. Shepard",
         "1928.0",
         "4.36"
        ],
        [
         "Ruta Sepetys",
         "2011.0",
         "4.36"
        ],
        [
         "Sam McBratney, Anita Jeram",
         "1988.0",
         "4.36"
        ],
        [
         "Bisco Hatori",
         "2003.0",
         "4.36"
        ],
        [
         "Pierce Brown",
         "2014.5",
         "4.359999999999999"
        ],
        [
         "Rick Riordan",
         "2012.5",
         "4.3575"
        ],
        [
         "Masashi Kishimoto, Katy Bridges",
         "1999.0",
         "4.35"
        ],
        [
         "W. Bruce Cameron",
         "2010.0",
         "4.35"
        ],
        [
         "Benjamin Alire SÃ¡enz",
         "2012.0",
         "4.34"
        ],
        [
         "Thomas Keneally",
         "1982.0",
         "4.34"
        ],
        [
         "Robert Munsch, Sheila McGraw",
         "1986.0",
         "4.34"
        ],
        [
         "Mark Cotta Vaz",
         "2009.0",
         "4.34"
        ],
        [
         "Rohinton Mistry",
         "1996.0",
         "4.34"
        ],
        [
         "Marcus Luttrell, Patrick Robinson",
         "2006.0",
         "4.34"
        ],
        [
         "Bryce Courtenay",
         "1989.0",
         "4.34"
        ],
        [
         "J.R. Ward",
         "2007.5714285714287",
         "4.3342857142857145"
        ],
        [
         "Richelle Mead",
         "2011.0",
         "4.333333333333333"
        ],
        [
         "Colleen Hoover",
         "2013.3333333333333",
         "4.333333333333333"
        ],
        [
         "Shel Silverstein",
         "1996.0",
         "4.33"
        ],
        [
         "Leon Uris",
         "1958.0",
         "4.33"
        ]
       ],
       "shape": {
        "columns": 2,
        "rows": 669
       }
      },
      "text/html": [
       "<div>\n",
       "<style scoped>\n",
       "    .dataframe tbody tr th:only-of-type {\n",
       "        vertical-align: middle;\n",
       "    }\n",
       "\n",
       "    .dataframe tbody tr th {\n",
       "        vertical-align: top;\n",
       "    }\n",
       "\n",
       "    .dataframe thead th {\n",
       "        text-align: right;\n",
       "    }\n",
       "</style>\n",
       "<table border=\"1\" class=\"dataframe\">\n",
       "  <thead>\n",
       "    <tr style=\"text-align: right;\">\n",
       "      <th></th>\n",
       "      <th>Publishing Year</th>\n",
       "      <th>Book_average_rating</th>\n",
       "    </tr>\n",
       "    <tr>\n",
       "      <th>Author</th>\n",
       "      <th></th>\n",
       "      <th></th>\n",
       "    </tr>\n",
       "  </thead>\n",
       "  <tbody>\n",
       "    <tr>\n",
       "      <th>Bill Watterson</th>\n",
       "      <td>1988.0</td>\n",
       "      <td>4.650000</td>\n",
       "    </tr>\n",
       "    <tr>\n",
       "      <th>Bill Watterson, G.B. Trudeau</th>\n",
       "      <td>1987.0</td>\n",
       "      <td>4.610000</td>\n",
       "    </tr>\n",
       "    <tr>\n",
       "      <th>J.R.R. Tolkien</th>\n",
       "      <td>1973.0</td>\n",
       "      <td>4.590000</td>\n",
       "    </tr>\n",
       "    <tr>\n",
       "      <th>George R.R. Martin</th>\n",
       "      <td>2000.0</td>\n",
       "      <td>4.560000</td>\n",
       "    </tr>\n",
       "    <tr>\n",
       "      <th>Sarah J. Maas</th>\n",
       "      <td>2014.6</td>\n",
       "      <td>4.526000</td>\n",
       "    </tr>\n",
       "    <tr>\n",
       "      <th>...</th>\n",
       "      <td>...</td>\n",
       "      <td>...</td>\n",
       "    </tr>\n",
       "    <tr>\n",
       "      <th>Chetan Bhagat</th>\n",
       "      <td>2007.0</td>\n",
       "      <td>3.273333</td>\n",
       "    </tr>\n",
       "    <tr>\n",
       "      <th>Audrey Niffenegger</th>\n",
       "      <td>2009.0</td>\n",
       "      <td>3.230000</td>\n",
       "    </tr>\n",
       "    <tr>\n",
       "      <th>Herman Koch, Sam Garrett</th>\n",
       "      <td>2009.0</td>\n",
       "      <td>3.220000</td>\n",
       "    </tr>\n",
       "    <tr>\n",
       "      <th>P.D. James</th>\n",
       "      <td>2012.0</td>\n",
       "      <td>3.210000</td>\n",
       "    </tr>\n",
       "    <tr>\n",
       "      <th>Sue Monk Kidd</th>\n",
       "      <td>2004.0</td>\n",
       "      <td>3.100000</td>\n",
       "    </tr>\n",
       "  </tbody>\n",
       "</table>\n",
       "<p>669 rows × 2 columns</p>\n",
       "</div>"
      ],
      "text/plain": [
       "                              Publishing Year  Book_average_rating\n",
       "Author                                                            \n",
       "Bill Watterson                         1988.0             4.650000\n",
       "Bill Watterson, G.B. Trudeau           1987.0             4.610000\n",
       "J.R.R. Tolkien                         1973.0             4.590000\n",
       "George R.R. Martin                     2000.0             4.560000\n",
       "Sarah J. Maas                          2014.6             4.526000\n",
       "...                                       ...                  ...\n",
       "Chetan Bhagat                          2007.0             3.273333\n",
       "Audrey Niffenegger                     2009.0             3.230000\n",
       "Herman Koch, Sam Garrett               2009.0             3.220000\n",
       "P.D. James                             2012.0             3.210000\n",
       "Sue Monk Kidd                          2004.0             3.100000\n",
       "\n",
       "[669 rows x 2 columns]"
      ]
     },
     "execution_count": 46,
     "metadata": {},
     "output_type": "execute_result"
    }
   ],
   "source": [
    "# Relationship between author, publish year and book avg rating\n",
    "df.groupby(\"Author\")[[\"Publishing Year\", \"Book_average_rating\"]].mean().sort_values(by=\"Book_average_rating\", ascending=False)"
   ]
  },
  {
   "cell_type": "code",
   "execution_count": 47,
   "id": "06dfc1e6",
   "metadata": {},
   "outputs": [
    {
     "data": {
      "image/png": "[encoded data removed]",
      "text/plain": [
       "<Figure size 640x480 with 1 Axes>"
      ]
     },
     "metadata": {},
     "output_type": "display_data"
    }
   ],
   "source": [
    "sns.boxplot(x=\"genre\", y=\"Book_ratings_count\", data=df)\n",
    "plt.xlabel(\"Genre\")\n",
    "plt.ylabel(\"Book Ratings Count\")\n",
    "plt.title(\"Box Plot of Book Ratings Count for Each Genre\")\n",
    "plt.show()"
   ]
  },
  {
   "cell_type": "markdown",
   "id": "7580a4c3",
   "metadata": {},
   "source": [
    "5.3.5 Relationship between sale price and units Sold"
   ]
  },
  {
   "cell_type": "code",
   "execution_count": 48,
   "id": "109d5235",
   "metadata": {},
   "outputs": [
    {
     "data": {
      "text/plain": [
       "Index(['index', 'Publishing Year', 'Book Name', 'Author', 'language_code',\n",
       "       'Author_Rating', 'Book_average_rating', 'Book_ratings_count', 'genre',\n",
       "       'gross sales', 'publisher revenue', 'sale price', 'sales rank',\n",
       "       'Publisher', 'units sold'],\n",
       "      dtype='object')"
      ]
     },
     "execution_count": 48,
     "metadata": {},
     "output_type": "execute_result"
    }
   ],
   "source": [
    "df.columns"
   ]
  },
  {
   "cell_type": "code",
   "execution_count": 49,
   "id": "9fca612d",
   "metadata": {},
   "outputs": [
    {
     "data": {
      "image/png": "[encoded data removed]",
      "text/plain": [
       "<Figure size 640x480 with 1 Axes>"
      ]
     },
     "metadata": {},
     "output_type": "display_data"
    }
   ],
   "source": [
    "plt.scatter(df[\"sale price\"], df[\"units sold\"])\n",
    "plt.xlabel(\"Sale Price\")\n",
    "plt.ylabel(\"Units Sold\")\n",
    "plt.title(\"Scatter Plot of Sale Price vs Units Sold\")\n",
    "plt.show()"
   ]
  },
  {
   "cell_type": "markdown",
   "id": "1cdf8dff",
   "metadata": {},
   "source": [
    "5.3.6 Pie Chart Visualizing language code"
   ]
  },
  {
   "cell_type": "code",
   "execution_count": 30,
   "id": "c01dedb4",
   "metadata": {},
   "outputs": [
    {
     "data": {
      "application/vnd.microsoft.datawrangler.viewer.v0+json": {
       "columns": [
        {
         "name": "language_code",
         "rawType": "object",
         "type": "string"
        },
        {
         "name": "count",
         "rawType": "int64",
         "type": "integer"
        }
       ],
       "ref": "59f2475e-c40c-41e3-ab91-65f6be24cc48",
       "rows": [
        [
         "eng",
         "670"
        ],
        [
         "en-US",
         "226"
        ],
        [
         "en-GB",
         "29"
        ],
        [
         "en-CA",
         "7"
        ],
        [
         "fre",
         "4"
        ],
        [
         "spa",
         "2"
        ],
        [
         "ara",
         "2"
        ],
        [
         "nl",
         "1"
        ]
       ],
       "shape": {
        "columns": 1,
        "rows": 8
       }
      },
      "text/plain": [
       "language_code\n",
       "eng      670\n",
       "en-US    226\n",
       "en-GB     29\n",
       "en-CA      7\n",
       "fre        4\n",
       "spa        2\n",
       "ara        2\n",
       "nl         1\n",
       "Name: count, dtype: int64"
      ]
     },
     "execution_count": 30,
     "metadata": {},
     "output_type": "execute_result"
    }
   ],
   "source": [
    "#Language Code\n",
    "df[\"language_code\"].value_counts()"
   ]
  },
  {
   "cell_type": "code",
   "execution_count": 31,
   "id": "318d1dc2",
   "metadata": {},
   "outputs": [],
   "source": [
    "#Language Code\n",
    "language_counts= df[\"language_code\"].value_counts()"
   ]
  },
  {
   "cell_type": "code",
   "execution_count": 32,
   "id": "bcec69f1",
   "metadata": {},
   "outputs": [
    {
     "data": {
      "image/png": "[encoded data removed]",
      "text/plain": [
       "<Figure size 1000x800 with 1 Axes>"
      ]
     },
     "metadata": {},
     "output_type": "display_data"
    }
   ],
   "source": [
    "plt.figure(figsize=(10, 8))\n",
    "plt.pie(language_counts.values, labels=language_counts.index, startangle=90, autopct=\"%1.1f%%\")\n",
    "plt.title(\"Books by Language Code\")\n",
    "plt.legend()\n",
    "plt.show()\n"
   ]
  },
  {
   "cell_type": "markdown",
   "id": "805d78b6",
   "metadata": {},
   "source": [
    "5.3.7 Realtionship between Publisher and their revenue"
   ]
  },
  {
   "cell_type": "code",
   "execution_count": 51,
   "id": "4c5d2a3e",
   "metadata": {},
   "outputs": [
    {
     "data": {
      "application/vnd.microsoft.datawrangler.viewer.v0+json": {
       "columns": [
        {
         "name": "Publisher",
         "rawType": "object",
         "type": "string"
        },
        {
         "name": "publisher revenue",
         "rawType": "float64",
         "type": "float"
        }
       ],
       "ref": "c66bc4e5-2d0f-4e7d-851c-7c9ac342ba0b",
       "rows": [
        [
         "Penguin Group (USA) LLC",
         "191581.104"
        ],
        [
         "Random House LLC",
         "174956.244"
        ],
        [
         "Amazon Digital Services,  Inc.",
         "141767.772"
        ],
        [
         "HarperCollins Publishers",
         "121769.814"
        ],
        [
         "Hachette Book Group",
         "107410.96800000001"
        ],
        [
         "Simon and Schuster Digital Sales Inc",
         "46858.206"
        ],
        [
         "Macmillan",
         "31249.829999999998"
        ],
        [
         "HarperCollins Publishing",
         "2830.806"
        ],
        [
         "HarperCollins Christian Publishing",
         "2135.67"
        ]
       ],
       "shape": {
        "columns": 1,
        "rows": 9
       }
      },
      "text/plain": [
       "Publisher\n",
       "Penguin Group (USA) LLC                 191581.104\n",
       "Random House LLC                        174956.244\n",
       "Amazon Digital Services,  Inc.          141767.772\n",
       "HarperCollins Publishers                121769.814\n",
       "Hachette Book Group                     107410.968\n",
       "Simon and Schuster Digital Sales Inc     46858.206\n",
       "Macmillan                                31249.830\n",
       "HarperCollins Publishing                  2830.806\n",
       "HarperCollins Christian Publishing        2135.670\n",
       "Name: publisher revenue, dtype: float64"
      ]
     },
     "execution_count": 51,
     "metadata": {},
     "output_type": "execute_result"
    }
   ],
   "source": [
    "df.groupby(\"Publisher\")[\"publisher revenue\"].sum().sort_values(ascending=False)"
   ]
  },
  {
   "cell_type": "code",
   "execution_count": 53,
   "id": "8d43e526",
   "metadata": {},
   "outputs": [
    {
     "data": {
      "image/png": "[encoded data removed]",
      "text/plain": [
       "<Figure size 1000x800 with 1 Axes>"
      ]
     },
     "metadata": {},
     "output_type": "display_data"
    }
   ],
   "source": [
    "plt.figure(figsize=(10,8))\n",
    "plt.bar(df[\"Publisher\"], df[\"publisher revenue\"])\n",
    "plt.xlabel(\"Publsihers\")\n",
    "plt.ylabel(\"Revenue\")\n",
    "plt.xticks(rotation=80)\n",
    "plt.show()"
   ]
  },
  {
   "cell_type": "markdown",
   "id": "bd338b16",
   "metadata": {},
   "source": [
    "5.3.8 Relationship Author Rating and Book Rating Count"
   ]
  },
  {
   "cell_type": "code",
   "execution_count": 54,
   "id": "66c048a1",
   "metadata": {},
   "outputs": [
    {
     "data": {
      "text/plain": [
       "Index(['index', 'Publishing Year', 'Book Name', 'Author', 'language_code',\n",
       "       'Author_Rating', 'Book_average_rating', 'Book_ratings_count', 'genre',\n",
       "       'gross sales', 'publisher revenue', 'sale price', 'sales rank',\n",
       "       'Publisher', 'units sold'],\n",
       "      dtype='object')"
      ]
     },
     "execution_count": 54,
     "metadata": {},
     "output_type": "execute_result"
    }
   ],
   "source": [
    "df.columns"
   ]
  },
  {
   "cell_type": "code",
   "execution_count": 55,
   "id": "30214203",
   "metadata": {},
   "outputs": [
    {
     "data": {
      "application/vnd.microsoft.datawrangler.viewer.v0+json": {
       "columns": [
        {
         "name": "Author_Rating",
         "rawType": "object",
         "type": "string"
        },
        {
         "name": "Book_ratings_count",
         "rawType": "int64",
         "type": "integer"
        }
       ],
       "ref": "e5bf41ad-80e3-4b49-a94b-0331e7bfbfde",
       "rows": [
        [
         "Intermediate",
         "58406557"
        ],
        [
         "Excellent",
         "28158413"
        ],
        [
         "Famous",
         "4718172"
        ],
        [
         "Novice",
         "2444917"
        ]
       ],
       "shape": {
        "columns": 1,
        "rows": 4
       }
      },
      "text/plain": [
       "Author_Rating\n",
       "Intermediate    58406557\n",
       "Excellent       28158413\n",
       "Famous           4718172\n",
       "Novice           2444917\n",
       "Name: Book_ratings_count, dtype: int64"
      ]
     },
     "execution_count": 55,
     "metadata": {},
     "output_type": "execute_result"
    }
   ],
   "source": [
    "df.groupby('Author_Rating')[\"Book_ratings_count\"].sum().sort_values(ascending=False)"
   ]
  },
  {
   "cell_type": "code",
   "execution_count": null,
   "id": "9d065d76",
   "metadata": {},
   "outputs": [
    {
     "name": "stderr",
     "output_type": "stream",
     "text": [
      "c:\\Python\\Python312\\Lib\\site-packages\\seaborn\\categorical.py:3399: UserWarning: 21.5% of the points cannot be placed; you may want to decrease the size of the markers or use stripplot.\n",
      "  warnings.warn(msg, UserWarning)\n",
      "c:\\Python\\Python312\\Lib\\site-packages\\seaborn\\categorical.py:3399: UserWarning: 21.1% of the points cannot be placed; you may want to decrease the size of the markers or use stripplot.\n",
      "  warnings.warn(msg, UserWarning)\n",
      "c:\\Python\\Python312\\Lib\\site-packages\\seaborn\\categorical.py:3399: UserWarning: 30.4% of the points cannot be placed; you may want to decrease the size of the markers or use stripplot.\n",
      "  warnings.warn(msg, UserWarning)\n"
     ]
    },
    {
     "data": {
      "image/png": "[encoded data removed]",
      "text/plain": [
       "<Figure size 640x480 with 1 Axes>"
      ]
     },
     "metadata": {},
     "output_type": "display_data"
    }
   ],
   "source": [
    "sns.swarmplot(x='Book_ratings_count', y='Author_Rating.values', data=df)\n",
    "plt.title(\"Swarm Plot for Author Rating vs Book Rating Count\")\n",
    "plt.show()"
   ]
  },
  {
   "cell_type": "code",
   "execution_count": 60,
   "id": "4c03607a",
   "metadata": {},
   "outputs": [
    {
     "data": {
      "image/png": "[encoded data removed]",
      "text/plain": [
       "<Figure size 1000x800 with 1 Axes>"
      ]
     },
     "metadata": {},
     "output_type": "display_data"
    }
   ],
   "source": [
    "author_rating_counts = df.groupby(\"Author_Rating\")[\"Book_ratings_count\"].sum()\n",
    "plt.figure(figsize=(10,8))\n",
    "plt.pie(author_rating_counts.values, labels=author_rating_counts.index, autopct='%1.2f%%')\n",
    "plt.title(\"Pie Chart Showing Author Rating by Book Ratings Count\")\n",
    "plt.legend()\n",
    "plt.show()"
   ]
  },
  {
   "cell_type": "markdown",
   "id": "1c29e623",
   "metadata": {},
   "source": [
    "5.3.9 Total gross sales by Author "
   ]
  },
  {
   "cell_type": "code",
   "execution_count": 61,
   "id": "a5cc671a",
   "metadata": {},
   "outputs": [],
   "source": [
    "total_gross_sales_by_author= df.groupby(\"Author\")[\"gross sales\"].sum()"
   ]
  },
  {
   "cell_type": "code",
   "execution_count": 65,
   "id": "932031cd",
   "metadata": {},
   "outputs": [
    {
     "data": {
      "image/png": "[encoded data removed]",
      "text/plain": [
       "<Figure size 640x480 with 1 Axes>"
      ]
     },
     "metadata": {},
     "output_type": "display_data"
    }
   ],
   "source": [
    "total_gross_sales_by_author.sort_values(ascending=False).head(10).plot(kind= \"bar\")\n",
    "plt.xlabel(\"Author\")\n",
    "plt.ylabel(\"Total Gross Sales\")\n",
    "plt.title(\"Total Gross Sales By Each Author\")\n",
    "plt.show()\n"
   ]
  },
  {
   "cell_type": "markdown",
   "id": "0c6a8692",
   "metadata": {},
   "source": [
    "5.3.10 Author Rating Vs Unit Sold"
   ]
  },
  {
   "cell_type": "code",
   "execution_count": 66,
   "id": "7fb90dcd",
   "metadata": {},
   "outputs": [
    {
     "data": {
      "image/png": "[encoded data removed]",
      "text/plain": [
       "<Figure size 640x480 with 1 Axes>"
      ]
     },
     "metadata": {},
     "output_type": "display_data"
    }
   ],
   "source": [
    "sns.boxplot(x=\"Author_Rating\", y=\"units sold\", data=df)\n",
    "plt.xlabel(\"Author_Rating\")\n",
    "plt.ylabel(\"Units Sold\")\n",
    "plt.title(\"Box Plot of Units Sold For Each Author Rating\")\n",
    "plt.show()"
   ]
  },
  {
   "cell_type": "markdown",
   "id": "78728a59",
   "metadata": {},
   "source": [
    "5.3.11 Number of units sold over the year"
   ]
  },
  {
   "cell_type": "code",
   "execution_count": 68,
   "id": "34eacfa8",
   "metadata": {},
   "outputs": [
    {
     "data": {
      "image/png": "[encoded data removed]",
      "text/plain": [
       "<Figure size 640x480 with 1 Axes>"
      ]
     },
     "metadata": {},
     "output_type": "display_data"
    }
   ],
   "source": [
    "df.groupby(\"Publishing Year\")[\"units sold\"].sum().plot(kind=\"line\", marker=\"o\")\n",
    "plt.xlabel(\"Publishing Year\")\n",
    "plt.ylabel(\"Units Sold\")\n",
    "plt.title(\"Total Units Sold Over The Time Period\")\n",
    "plt.show()"
   ]
  }
 ],
 "metadata": {
  "kernelspec": {
   "display_name": "Python 3",
   "language": "python",
   "name": "python3"
  },
  "language_info": {
   "codemirror_mode": {
    "name": "ipython",
    "version": 3
   },
   "file_extension": ".py",
   "mimetype": "text/x-python",
   "name": "python",
   "nbconvert_exporter": "python",
   "pygments_lexer": "ipython3",
   "version": "3.12.1"
  }
 },
 "nbformat": 4,
 "nbformat_minor": 5
}
